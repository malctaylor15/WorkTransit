{
 "cells": [
  {
   "cell_type": "code",
   "execution_count": 1,
   "metadata": {},
   "outputs": [],
   "source": [
    "import sqlite3 \n",
    "import pandas as pd \n",
    "import numpy as np \n",
    "import datetime \n",
    "import os \n",
    "import plotly.express as px\n",
    "import sys\n"
   ]
  },
  {
   "cell_type": "code",
   "execution_count": 2,
   "metadata": {},
   "outputs": [
    {
     "data": {
      "text/plain": [
       "{'home': '120 Benchley Pl, Bronx NY',\n",
       " 'work': '809 Washington Street',\n",
       " 'bxbark': '830 Pelham Pkwy, Pelham Manor, NY 10803',\n",
       " 'orchard_beach': 'Orchard Beach, Bronx, NY 10464'}"
      ]
     },
     "execution_count": 2,
     "metadata": {},
     "output_type": "execute_result"
    }
   ],
   "source": [
    "sys.path.append('/home/malcolm/WorkTransit/scripts/')\n",
    "from WorkTransitLib import RawDirections as rd\n",
    "rev_locations = {v:k for k, v in rd.locations.items()}\n",
    "rd.locations"
   ]
  },
  {
   "cell_type": "code",
   "execution_count": 3,
   "metadata": {},
   "outputs": [],
   "source": [
    "%load_ext autoreload\n",
    "%autoreload 2"
   ]
  },
  {
   "cell_type": "markdown",
   "metadata": {},
   "source": [
    "# Make it Classy"
   ]
  },
  {
   "cell_type": "code",
   "execution_count": 4,
   "metadata": {},
   "outputs": [],
   "source": [
    "def gb_summary_func(df):\n",
    "    out = {}\n",
    "    out['Count'] = df.shape[0]\n",
    "    out['Avg Duration Traffic hr'] = np.round(df['duration_in_traffic_hr'].mean(), 2)\n",
    "    out['Stdev Duration Traffic hr'] = np.round(df['duration_in_traffic_hr'].std(), 2)\n",
    "    out['Avg Duration Traffic text'] = str(np.round(out['Avg Duration Traffic hr'] * 60, 2) ) + ' mins'\n",
    "    out['Stdev Duration Traffic text'] = str(np.round(out['Stdev Duration Traffic hr'] * 60, 2) ) + ' mins'\n",
    "    out['Avg Duration Mins num'] = np.round(out['Avg Duration Traffic hr'] * 60, 2)\n",
    "    out['Stdev Duration Min num'] = np.round(out['Stdev Duration Traffic hr'] * 60, 2)\n",
    "    out['Avg Duration Traffic Mins num'] = np.round(out['Avg Duration Traffic hr'] * 60, 2)\n",
    "    out['Earliest Time'] = df['Time'].min()\n",
    "    out['Latest Time'] = df['Time'].max()\n",
    "    out['Earliest Date'] = df['Date'].min()\n",
    "    out['Latest Date'] = df['Date'].max()\n",
    "    out['Days w/ Data'] = df['Date'].nunique()\n",
    "    out_series = pd.Series(out)\n",
    "    return(out_series)"
   ]
  },
  {
   "cell_type": "code",
   "execution_count": 5,
   "metadata": {},
   "outputs": [],
   "source": [
    "def create_leave_time_gb(df, with_col='Day of Week'):\n",
    "    time_gb = df.set_index('departure_time_time')\\\n",
    "        .groupby([with_col, pd.Grouper(freq='20T')])\\\n",
    "        .apply(lambda x: gb_summary_func(x))\n",
    "    time_gb2 = time_gb.reset_index()\n",
    "    time_gb2['Earliest Start Time'] = pd.to_datetime(time_gb2['Earliest Time'])\n",
    "    return(time_gb2)\n"
   ]
  },
  {
   "cell_type": "code",
   "execution_count": 6,
   "metadata": {},
   "outputs": [],
   "source": [
    "def create_avg_time_plot(gb_df, seg_field = 'Day of Week', routename = 'Unknown'):\n",
    "    fig = px.line(gb_df, 'Earliest Start Time', 'Avg Duration Mins num'\n",
    "           , color=seg_field, markers=True\n",
    "           , title = \"Avg Time to dest by Leave Time by Route - \" + routename)\n",
    "    return(fig)"
   ]
  },
  {
   "cell_type": "code",
   "execution_count": 7,
   "metadata": {},
   "outputs": [],
   "source": [
    "class SummarizeDriving():\n",
    "    \n",
    "    def __init__(self, **kwargs):\n",
    "        self.db_path='/home/malcolm/WorkTransit/data/transit.db'\n",
    "        self.end_dt = datetime.datetime.now()\n",
    "        self.end_str = str(self.end_dt.date())\n",
    "        n_days=14\n",
    "        self.start_dt = self.end_dt - datetime.timedelta(days=n_days)\n",
    "        self.start_str = str(self.start_dt.date())\n",
    "        self.image_save_path = '/home/malcolm/WorkTransit/images/'\n",
    "        os.makedirs(self.image_save_path, exist_ok=True)\n",
    "        self.__dict__.update(**kwargs)        \n",
    "        \n",
    "        self.image_paths = []\n",
    "        self.output_dfs = {}\n",
    "    \n",
    "    def create_con(self):\n",
    "        self.con = sqlite3.connect(self.db_path)\n",
    "        self.cursor =self. con.cursor()\n",
    "        self.cursor.execute('SELECT name FROM sqlite_master WHERE type=\\'table\\' ORDER BY name')\n",
    "        tables = self.cursor.fetchall()\n",
    "        tables = [x[0] for x in tables]\n",
    "        print(\"Tables: \", tables)\n",
    "    \n",
    "    def load_data(self):\n",
    "        # Load Data with Modifications\n",
    "        df = pd.read_sql(f\"\"\" \n",
    "        select * \n",
    "        from parsed_driving\n",
    "        where Date between '{self.start_str}' and '{self.end_str}'\n",
    "        order by Date\n",
    "        \"\"\", self.con)\n",
    "        print(df.shape)\n",
    "        df['departure_time'] = pd.to_datetime(df['departure_time'])\n",
    "        df['departure_time_time'] = df['departure_time'].apply(lambda x: x - pd.Timestamp(x.date()))\n",
    "        df['origin_name'] = df['origin'].apply(lambda x: rev_locations.get(x, 'Unknown'))\n",
    "        df['destination_name'] = df['destination'].apply(lambda x: rev_locations.get(x, 'Unknown'))\n",
    "        df['Day of Week'] = df['departure_time'].dt.dayofweek.astype(str) + '-' + df['departure_time'].dt.day_name()\n",
    "        df = df.rename({'summary':'route'}, axis=1)\n",
    "        self.df = df.copy()\n",
    "        \n",
    "    def one_route_pipeline(self, origin_name, dest_name):\n",
    "        routename = origin_name + ' - ' + dest_name\n",
    "        route1 = self.df[(self.df['origin_name'] == origin_name) \n",
    "                & (self.df['destination_name'] == dest_name)  \n",
    "    #             & (df['Date'] == day1)\n",
    "               ]\n",
    "        time_gb = create_leave_time_gb(route1, 'Day of Week')\n",
    "        route_gb = create_leave_time_gb(route1, 'route')\n",
    "        \n",
    "        time_plot = create_avg_time_plot(time_gb, 'Day of Week', routename)\n",
    "        route_plot = create_avg_time_plot(route_gb, 'route', routename)\n",
    "        \n",
    "        time_plot_path = self.image_save_path + 'time_plot_'+routename+'.png'\n",
    "        route_plot_path = self.image_save_path + 'route_plot_'+routename+'.png'\n",
    "        time_plot.write_image(time_plot_path)\n",
    "        route_plot.write_image(route_plot_path)\n",
    "        \n",
    "        self.image_paths.extend([time_plot_path, route_plot_path])\n",
    "        print(\"Saved Images for \", routename)\n",
    "        \n",
    "        df_summ = gb_summary_func(route1)\n",
    "        df_summ = pd.DataFrame(df_summ).T\\\n",
    "            .drop(['Avg Duration Traffic hr', 'Stdev Duration Traffic hr', \n",
    "                  'Avg Duration Mins num', 'Stdev Duration Min num', 'Avg Duration Traffic Mins num'], axis=1)\n",
    "        df_summ = df_summ.rename({0:routename})\n",
    "        return(df_summ)\n",
    "\n",
    "        \n",
    "    def run_multiple_trips(self):\n",
    "        self.summ_dicts = []\n",
    "        pairs = [\n",
    "            {'origin_name' : 'home',   'dest_name': 'work'},\n",
    "            {'origin_name' : 'work',   'dest_name': 'home'},\n",
    "            {'origin_name' : 'bxbark', 'dest_name': 'work'},\n",
    "            {'origin_name' : 'work',   'dest_name': 'bxbark'},\n",
    "        ]\n",
    "        for pair in pairs:\n",
    "            rslt = self.one_route_pipeline(**pair)\n",
    "            self.summ_dicts.append(rslt)\n",
    "            \n",
    "        self.trip_summary_df = pd.concat(self.summ_dicts)\n",
    "        self.output_dfs['Trip Summary'] = self.trip_summary_df\n",
    "            \n",
    "    \n",
    "    def execute(self):\n",
    "        self.create_con()\n",
    "        self.load_data()\n",
    "        self.run_multiple_trips()"
   ]
  },
  {
   "cell_type": "code",
   "execution_count": 8,
   "metadata": {
    "scrolled": true
   },
   "outputs": [
    {
     "name": "stdout",
     "output_type": "stream",
     "text": [
      "Tables:  ['Raw_Responses', 'parsed_driving', 'parsed_transit']\n",
      "(1731, 17)\n",
      "Saved Images for  home - work\n",
      "Saved Images for  work - home\n",
      "Saved Images for  bxbark - work\n",
      "Saved Images for  work - bxbark\n"
     ]
    }
   ],
   "source": [
    "driving_sum = SummarizeDriving()\n",
    "driving_sum.execute()"
   ]
  },
  {
   "cell_type": "code",
   "execution_count": 11,
   "metadata": {},
   "outputs": [
    {
     "name": "stdout",
     "output_type": "stream",
     "text": [
      "Saved Images for  home - work\n"
     ]
    },
    {
     "data": {
      "text/html": [
       "<div>\n",
       "<style scoped>\n",
       "    .dataframe tbody tr th:only-of-type {\n",
       "        vertical-align: middle;\n",
       "    }\n",
       "\n",
       "    .dataframe tbody tr th {\n",
       "        vertical-align: top;\n",
       "    }\n",
       "\n",
       "    .dataframe thead th {\n",
       "        text-align: right;\n",
       "    }\n",
       "</style>\n",
       "<table border=\"1\" class=\"dataframe\">\n",
       "  <thead>\n",
       "    <tr style=\"text-align: right;\">\n",
       "      <th></th>\n",
       "      <th>Count</th>\n",
       "      <th>Avg Duration Traffic text</th>\n",
       "      <th>Stdev Duration Traffic text</th>\n",
       "      <th>Earliest Time</th>\n",
       "      <th>Latest Time</th>\n",
       "      <th>Earliest Date</th>\n",
       "      <th>Latest Date</th>\n",
       "      <th>Days w/ Data</th>\n",
       "    </tr>\n",
       "  </thead>\n",
       "  <tbody>\n",
       "    <tr>\n",
       "      <th>home - work</th>\n",
       "      <td>129</td>\n",
       "      <td>54.6 mins</td>\n",
       "      <td>13.2 mins</td>\n",
       "      <td>07:03</td>\n",
       "      <td>09:48</td>\n",
       "      <td>2021-11-15</td>\n",
       "      <td>2021-11-26</td>\n",
       "      <td>10</td>\n",
       "    </tr>\n",
       "  </tbody>\n",
       "</table>\n",
       "</div>"
      ],
      "text/plain": [
       "            Count Avg Duration Traffic text Stdev Duration Traffic text  \\\n",
       "home - work   129                 54.6 mins                   13.2 mins   \n",
       "\n",
       "            Earliest Time Latest Time Earliest Date Latest Date Days w/ Data  \n",
       "home - work         07:03       09:48    2021-11-15  2021-11-26           10  "
      ]
     },
     "execution_count": 11,
     "metadata": {},
     "output_type": "execute_result"
    }
   ],
   "source": [
    "driving_sum.one_route_pipeline('home', 'work')"
   ]
  },
  {
   "cell_type": "code",
   "execution_count": null,
   "metadata": {},
   "outputs": [],
   "source": []
  },
  {
   "cell_type": "code",
   "execution_count": 12,
   "metadata": {},
   "outputs": [],
   "source": [
    "from IPython.display import Image\n"
   ]
  },
  {
   "cell_type": "code",
   "execution_count": 13,
   "metadata": {},
   "outputs": [
    {
     "data": {
      "image/png": "[encoded data removed]",
      "text/plain": [
       "<IPython.core.display.Image object>"
      ]
     },
     "execution_count": 13,
     "metadata": {},
     "output_type": "execute_result"
    }
   ],
   "source": [
    "Image(driving_sum.image_paths[3])"
   ]
  },
  {
   "cell_type": "code",
   "execution_count": null,
   "metadata": {},
   "outputs": [],
   "source": []
  },
  {
   "cell_type": "code",
   "execution_count": null,
   "metadata": {},
   "outputs": [],
   "source": []
  },
  {
   "cell_type": "code",
   "execution_count": null,
   "metadata": {},
   "outputs": [],
   "source": []
  },
  {
   "cell_type": "code",
   "execution_count": null,
   "metadata": {},
   "outputs": [],
   "source": []
  },
  {
   "cell_type": "code",
   "execution_count": null,
   "metadata": {
    "code_folding": []
   },
   "outputs": [],
   "source": [
    "def create_con(db_path='/home/malcolm/WorkTransit/data/transit.db'):\n",
    "    con = sqlite3.connect(db_path)\n",
    "    cursor = con.cursor()\n",
    "    cursor.execute('SELECT name FROM sqlite_master WHERE type=\\'table\\' ORDER BY name')\n",
    "    tables = cursor.fetchall()\n",
    "    tables = [x[0] for x in tables]\n",
    "    print(\"Tables: \", tables)\n",
    "    return(con, cursor)"
   ]
  },
  {
   "cell_type": "code",
   "execution_count": null,
   "metadata": {},
   "outputs": [],
   "source": [
    "con, cursor = create_con()"
   ]
  },
  {
   "cell_type": "code",
   "execution_count": null,
   "metadata": {},
   "outputs": [],
   "source": [
    "today = datetime.datetime.now()\n",
    "today_str = str(today.date())\n",
    "two_weeks = today - datetime.timedelta(days=7)\n",
    "two_weeks_str = str(two_weeks.date())\n",
    "print(\"Today: \", today_str, \"Two weeks: \", two_weeks_str)"
   ]
  },
  {
   "cell_type": "code",
   "execution_count": null,
   "metadata": {},
   "outputs": [],
   "source": []
  },
  {
   "cell_type": "markdown",
   "metadata": {},
   "source": [
    "# Driving"
   ]
  },
  {
   "cell_type": "markdown",
   "metadata": {},
   "source": [
    "## Load Data"
   ]
  },
  {
   "cell_type": "code",
   "execution_count": null,
   "metadata": {},
   "outputs": [],
   "source": [
    "# Demo with Raw Data\n",
    "df = pd.read_sql(f\"\"\" \n",
    "select * \n",
    "from Raw_Responses\n",
    "where Date between '{two_weeks_str}' and '{today_str}'\n",
    "order by Date desc\n",
    "\"\"\", con)\n",
    "print(df.shape)\n",
    "df.head()"
   ]
  },
  {
   "cell_type": "code",
   "execution_count": null,
   "metadata": {},
   "outputs": [],
   "source": [
    "# Load Data with Modifications\n",
    "df = pd.read_sql(f\"\"\" \n",
    "select * \n",
    "from parsed_driving\n",
    "where Date between '{two_weeks_str}' and '{today_str}'\n",
    "order by Date\n",
    "\"\"\", con)\n",
    "print(df.shape)\n",
    "df['departure_time'] = pd.to_datetime(df['departure_time'])\n",
    "df['origin_name'] = df['origin'].apply(lambda x: rev_locations.get(x, 'Unknown'))\n",
    "df['destination_name'] = df['destination'].apply(lambda x: rev_locations.get(x, 'Unknown'))\n",
    "df['Day of Week'] = df['departure_time'].dt.dayofweek.astype(str) + '-' + df['departure_time'].dt.day_name()\n",
    "df.head()"
   ]
  },
  {
   "cell_type": "code",
   "execution_count": null,
   "metadata": {},
   "outputs": [],
   "source": [
    "df['Day of Week'].value_counts()"
   ]
  },
  {
   "cell_type": "code",
   "execution_count": null,
   "metadata": {},
   "outputs": [],
   "source": [
    "df.groupby(['Day of Week', 'origin_name', 'destination_name']).count()['summary']"
   ]
  },
  {
   "cell_type": "code",
   "execution_count": null,
   "metadata": {
    "scrolled": true
   },
   "outputs": [],
   "source": [
    "df.groupby('Date').count()"
   ]
  },
  {
   "cell_type": "code",
   "execution_count": null,
   "metadata": {
    "scrolled": true
   },
   "outputs": [],
   "source": [
    "df.groupby(['Date', 'origin', 'destination']).count()"
   ]
  },
  {
   "cell_type": "code",
   "execution_count": null,
   "metadata": {},
   "outputs": [],
   "source": [
    "df.groupby(['origin', 'destination', 'summary']).count().sort_values('duration_hr', ascending=False)"
   ]
  },
  {
   "cell_type": "code",
   "execution_count": null,
   "metadata": {},
   "outputs": [],
   "source": [
    "def gb_summary_func(df):\n",
    "    out = {}\n",
    "    out['Count'] = df.shape[0]\n",
    "    out['Avg Duration Traffic hr'] = np.round(df['duration_in_traffic_hr'].mean(), 2)\n",
    "    out['Stdev Duration Traffic hr'] = np.round(df['duration_in_traffic_hr'].std(), 2)\n",
    "    out['Avg Duration Traffic text'] = str(np.round(out['Avg Duration Traffic hr'] * 60, 2) ) + ' mins'\n",
    "    out['Stdev Duration Traffic text'] = str(np.round(out['Stdev Duration Traffic hr'] * 60, 2) ) + ' mins'\n",
    "    out['Avg Duration Mins num'] = np.round(out['Avg Duration Traffic hr'] * 60, 2)\n",
    "    out['Stdev Duration Min num'] = np.round(out['Stdev Duration Traffic hr'] * 60, 2)\n",
    "    out['Avg Duration Traffic Mins num'] = np.round(out['Avg Duration Traffic hr'] * 60, 2)\n",
    "    out['Earliest Time'] = df['Time'].min()\n",
    "    out['Latest Time'] = df['Time'].max()\n",
    "    out['Earliest Date'] = df['Date'].min()\n",
    "    out['Latest Date'] = df['Date'].max()\n",
    "    out_series = pd.Series(out)\n",
    "    return(out_series)"
   ]
  },
  {
   "cell_type": "code",
   "execution_count": null,
   "metadata": {},
   "outputs": [],
   "source": [
    "df.columns"
   ]
  },
  {
   "cell_type": "code",
   "execution_count": null,
   "metadata": {},
   "outputs": [],
   "source": [
    "origin_dest_cnts = df.groupby(['origin', 'destination'])['summary'].count()\\\n",
    "    .rename('Total Counts', axis=0)\n",
    "origin_dest_cnts"
   ]
  },
  {
   "cell_type": "code",
   "execution_count": null,
   "metadata": {},
   "outputs": [],
   "source": [
    "gb_summary = df.groupby(['origin', 'destination', 'summary']).apply(lambda x: gb_summary_func(x))\n",
    "gb_summary2 = pd.merge(gb_summary, origin_dest_cnts\n",
    "         , left_index=True, right_index=True )\n",
    "gb_summary2['Summary %'] = np.round(100 * gb_summary2['Count']/gb_summary2['Total Counts'], 1)\n",
    "\n",
    "gb_summary2[gb_summary2['Count'] >= 10]\\\n",
    "    .drop(['Avg Duration Traffic hr', 'Stdev Duration Traffic hr'], axis=1)\\\n",
    "    .sort_values(['origin', 'destination', 'Count'], ascending=False)"
   ]
  },
  {
   "cell_type": "code",
   "execution_count": null,
   "metadata": {},
   "outputs": [],
   "source": [
    "gb_summary2 = pd.merge(gb_summary, origin_dest_cnts\n",
    "         , left_index=True, right_index=True )\n",
    "gb_summary2['Summary %'] = np.round(100 * gb_summary2['Count']/gb_summary2['Total Counts'], 1)\n",
    "gb_summary2.head()"
   ]
  },
  {
   "cell_type": "code",
   "execution_count": null,
   "metadata": {},
   "outputs": [],
   "source": []
  },
  {
   "cell_type": "markdown",
   "metadata": {},
   "source": [
    "## One Route \n",
    "\n",
    "Analyses requested.... by route, by day, by time \n",
    "metrics - average time to destination, min, max, (# of trips used in measurements) \n",
    "\n",
    "Overall fastest times, overall slowest times....\n",
    "\n",
    "By trip (source and destination) "
   ]
  },
  {
   "cell_type": "code",
   "execution_count": null,
   "metadata": {},
   "outputs": [],
   "source": [
    "origin1 = '120 Benchley Pl, Bronx NY'\n",
    "dest1 = '809 Washington Street'\n",
    "# day1 = df['Date'].max()"
   ]
  },
  {
   "cell_type": "code",
   "execution_count": null,
   "metadata": {
    "scrolled": true
   },
   "outputs": [],
   "source": [
    "route1 = df[(df['origin'] == origin1) \n",
    "            & (df['destination'] == dest1)  \n",
    "#             & (df['Date'] == day1)\n",
    "           ]\n",
    "print(\"Shape: \", route1.shape)\n",
    "route1"
   ]
  },
  {
   "cell_type": "code",
   "execution_count": null,
   "metadata": {},
   "outputs": [],
   "source": [
    "origin_name = route1['origin_name'].value_counts().index[0]\n",
    "dest_name = route1['destination_name'].value_counts().index[0]\n",
    "routename = f\"{origin_name} to {dest_name}\"\n",
    "print(routename)"
   ]
  },
  {
   "cell_type": "markdown",
   "metadata": {},
   "source": [
    "## By Day of Week and Route Graphs"
   ]
  },
  {
   "cell_type": "code",
   "execution_count": null,
   "metadata": {
    "scrolled": true
   },
   "outputs": [],
   "source": [
    "route2 = route1.copy()\n",
    "route2['departure_time_time'] = route2['departure_time'].apply(lambda x: x - pd.Timestamp(x.date()))\n",
    "\n",
    "time_gb = route2.set_index('departure_time_time')\\\n",
    "    .groupby(['Day of Week', pd.Grouper(freq='20T')])\\\n",
    "    .apply(lambda x: gb_summary_func(x))\n",
    "print(\"Destination: \", dest1, \" Origin: \", origin1)\n",
    "time_gb2 = time_gb.reset_index()\n",
    "time_gb2['Earliest Time2'] = pd.to_datetime(time_gb2['Earliest Time'])\n",
    "\n",
    "time_gb"
   ]
  },
  {
   "cell_type": "code",
   "execution_count": null,
   "metadata": {
    "scrolled": true
   },
   "outputs": [],
   "source": [
    "summary_gb = route2.set_index('departure_time_time')\\\n",
    "    .groupby(['summary', pd.Grouper(freq='20T')])\\\n",
    "    .apply(lambda x: gb_summary_func(x))\n",
    "print(\"Destination: \", dest1, \" Origin: \", origin1)\n",
    "\n",
    "summary_gb2 = summary_gb.reset_index()\n",
    "summary_gb2['Earliest Time2'] = pd.to_datetime(summary_gb2['Earliest Time'])\n",
    "summary_gb"
   ]
  },
  {
   "cell_type": "code",
   "execution_count": null,
   "metadata": {},
   "outputs": [],
   "source": [
    "px.scatter(time_gb2, 'Earliest Time2', 'Avg Duration Mins num'\n",
    "       , color='Day of Week'\n",
    "       , title = \"Avg Time to dest by Leave Time by Day of Week - \" + routename\n",
    "       , mode='lines+markers' )"
   ]
  },
  {
   "cell_type": "code",
   "execution_count": null,
   "metadata": {},
   "outputs": [],
   "source": [
    "import plotly"
   ]
  },
  {
   "cell_type": "code",
   "execution_count": null,
   "metadata": {},
   "outputs": [],
   "source": [
    "plotly.__version__"
   ]
  },
  {
   "cell_type": "code",
   "execution_count": null,
   "metadata": {},
   "outputs": [],
   "source": [
    "px.line(time_gb2, 'Earliest Time2', 'Avg Duration Mins num'\n",
    "       , color='Day of Week'\n",
    "       , title = \"Avg Time to dest by Leave Time by Day of Week - \" + routename)"
   ]
  },
  {
   "cell_type": "code",
   "execution_count": null,
   "metadata": {},
   "outputs": [],
   "source": [
    "px.line(summary_gb2, 'Earliest Time2', 'Avg Duration Mins num'\n",
    "       , color='summary'\n",
    "       , title = \"Avg Time to dest by Leave Time by Route - \" + routename)"
   ]
  },
  {
   "cell_type": "markdown",
   "metadata": {},
   "source": [
    "## Metrics"
   ]
  },
  {
   "cell_type": "code",
   "execution_count": null,
   "metadata": {},
   "outputs": [],
   "source": [
    "df_summ = gb_summary_func(route1)\n",
    "pd.DataFrame(df_summ).T\\\n",
    "    .drop(['Avg Duration Traffic hr', 'Stdev Duration Traffic hr', \n",
    "          'Avg Duration Mins num', 'Stdev Duration Min num', 'Avg Duration Traffic Mins num'], axis=1)\n"
   ]
  },
  {
   "cell_type": "code",
   "execution_count": null,
   "metadata": {},
   "outputs": [],
   "source": []
  },
  {
   "cell_type": "code",
   "execution_count": null,
   "metadata": {},
   "outputs": [],
   "source": []
  },
  {
   "cell_type": "markdown",
   "metadata": {},
   "source": [
    "# Transit "
   ]
  },
  {
   "cell_type": "code",
   "execution_count": null,
   "metadata": {},
   "outputs": [],
   "source": []
  },
  {
   "cell_type": "raw",
   "metadata": {},
   "source": [
    "df = pd.read_sql(f\"\"\" \n",
    "select * \n",
    "from parsed_transit\n",
    "where Date between '{two_weeks_str}' and '{today_str}'\n",
    "order by Date\n",
    "\"\"\", con)\n",
    "print(df.shape)\n",
    "df.head()"
   ]
  }
 ],
 "metadata": {
  "kernelspec": {
   "display_name": "Python 3",
   "language": "python",
   "name": "python3"
  },
  "language_info": {
   "codemirror_mode": {
    "name": "ipython",
    "version": 3
   },
   "file_extension": ".py",
   "mimetype": "text/x-python",
   "name": "python",
   "nbconvert_exporter": "python",
   "pygments_lexer": "ipython3",
   "version": "3.6.9"
  },
  "toc": {
   "base_numbering": 1,
   "nav_menu": {},
   "number_sections": true,
   "sideBar": true,
   "skip_h1_title": false,
   "title_cell": "Table of Contents",
   "title_sidebar": "Contents",
   "toc_cell": false,
   "toc_position": {},
   "toc_section_display": true,
   "toc_window_display": true
  }
 },
 "nbformat": 4,
 "nbformat_minor": 4
}
