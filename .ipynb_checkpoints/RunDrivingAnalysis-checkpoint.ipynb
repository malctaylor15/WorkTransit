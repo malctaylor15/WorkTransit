{
 "cells": [
  {
   "cell_type": "code",
   "execution_count": 1,
   "metadata": {},
   "outputs": [
    {
     "data": {
      "text/plain": [
       "'Orchard Beach, Bronx, NY 10464'"
      ]
     },
     "execution_count": 1,
     "metadata": {},
     "output_type": "execute_result"
    }
   ],
   "source": [
    "import sys \n",
    "import os\n",
    "os.chdir('/home/malcolm')\n",
    "sys.path.append('/home/malcolm/EmailSender/')\n",
    "sys.path.append('/home/malcolm/WorkTransit/scripts/')\n",
    "from EmailSender.EmailSender import EmailSender as ES\n",
    "from WorkTransitLib.driving_eda import SummarizeDriving\n",
    "from WorkTransitLib import RawDirections as rd\n",
    "\n",
    "import datetime\n",
    "\n",
    "today = datetime.datetime.now().date()\n",
    "rd.locations.pop('orchard_beach')"
   ]
  },
  {
   "cell_type": "code",
   "execution_count": 2,
   "metadata": {},
   "outputs": [
    {
     "name": "stdout",
     "output_type": "stream",
     "text": [
      "Tables:  ['Raw_Responses', 'parsed_driving', 'parsed_transit']\n",
      "(1731, 17)\n",
      "Saved Image for  home - work\n",
      "Saved Image for  work - home\n",
      "Saved Image for  bxbark - work\n",
      "Saved Image for  work - bxbark\n",
      "Success\n"
     ]
    }
   ],
   "source": [
    "try:\n",
    "\n",
    "    driving_sum = SummarizeDriving()\n",
    "    driving_sum.execute()\n",
    "    driving_html = driving_sum.trip_summary_df.to_html()\n",
    "#     print(\"Images located at: \", driving_sum.image_paths)\n",
    "    \n",
    "    body_html = f\"\"\"\n",
    "    Analyzing the drive times between home, work and work, doggy day care. \n",
    "    The Locations are as follows: {rd.locations}\n",
    "    <br>\n",
    "    The date in the time graphs are irrelevant. \n",
    "    <br>\n",
    "    <b> Trip Summary</b> <br>\n",
    "    {driving_html}\n",
    "    \n",
    "    \n",
    "    \"\"\"\n",
    "    \n",
    "    message_params = {}\n",
    "    message_params['Subject'] = f\"Driving Analysis {str(today)}\"\n",
    "    message_params['Body'] = body_html\n",
    "    message_params['Image_paths'] = driving_sum.image_paths   \n",
    "    \n",
    "    email_sender = ES(**message_params)\n",
    "    email_sender.execute()\n",
    "    print(\"Success\")\n",
    "except Exception as e:\n",
    "    print(\"Failed\")\n",
    "    error_email = {}\n",
    "    error_email['Subject'] = f\"Error in Driving Analysis for {str(today)}\"\n",
    "    error_email['Body'] = \"Error in Driving Analysis: Error message <br><br>\" + str(e).replace('/n', '<br>')\n",
    "    \n",
    "    email_sender = ES(**error_email)\n",
    "    email_sender.execute()\n"
   ]
  },
  {
   "cell_type": "code",
   "execution_count": null,
   "metadata": {},
   "outputs": [],
   "source": []
  }
 ],
 "metadata": {
  "kernelspec": {
   "display_name": "Python 3",
   "language": "python",
   "name": "python3"
  },
  "language_info": {
   "codemirror_mode": {
    "name": "ipython",
    "version": 3
   },
   "file_extension": ".py",
   "mimetype": "text/x-python",
   "name": "python",
   "nbconvert_exporter": "python",
   "pygments_lexer": "ipython3",
   "version": "3.6.9"
  },
  "toc": {
   "base_numbering": 1,
   "nav_menu": {},
   "number_sections": true,
   "sideBar": true,
   "skip_h1_title": false,
   "title_cell": "Table of Contents",
   "title_sidebar": "Contents",
   "toc_cell": false,
   "toc_position": {},
   "toc_section_display": true,
   "toc_window_display": false
  }
 },
 "nbformat": 4,
 "nbformat_minor": 4
}
