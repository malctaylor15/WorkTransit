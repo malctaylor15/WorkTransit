{
 "cells": [
  {
   "cell_type": "code",
   "execution_count": 1,
   "metadata": {},
   "outputs": [],
   "source": [
    "import smtplib\n",
    "import ssl\n",
    "from email.mime.text import MIMEText\n",
    "from email.mime.multipart import MIMEMultipart\n",
    "import base64\n",
    "import os \n",
    "import sys\n",
    "import re \n",
    "import datetime\n",
    "import pickle\n",
    "import nbconvert\n"
   ]
  },
  {
   "cell_type": "code",
   "execution_count": 2,
   "metadata": {},
   "outputs": [],
   "source": [
    "import nbformat\n",
    "from traitlets.config import Config\n",
    "from nbconvert import HTMLExporter\n",
    "from nbconvert.writers import FilesWriter"
   ]
  },
  {
   "cell_type": "code",
   "execution_count": 3,
   "metadata": {},
   "outputs": [],
   "source": [
    "%load_ext autoreload\n",
    "%autoreload 2"
   ]
  },
  {
   "cell_type": "code",
   "execution_count": 4,
   "metadata": {},
   "outputs": [],
   "source": [
    "sys.path.append('/home/malcolm/WorkTransit/scripts/')"
   ]
  },
  {
   "cell_type": "code",
   "execution_count": 5,
   "metadata": {},
   "outputs": [],
   "source": [
    "import WorkTransitLib.RawDirections as rd\n",
    "import WorkTransitLib.parseRawResponse as parser"
   ]
  },
  {
   "cell_type": "code",
   "execution_count": 6,
   "metadata": {},
   "outputs": [
    {
     "name": "stdout",
     "output_type": "stream",
     "text": [
      "2021-09-25 17:02:33.830039\n"
     ]
    }
   ],
   "source": [
    "now = datetime.datetime.now()\n",
    "print(now)\n",
    "time_hour = now.time().hour \n",
    "weekday = now.weekday()"
   ]
  },
  {
   "cell_type": "raw",
   "metadata": {},
   "source": [
    "time_hour = 20\n",
    "weekday = 6"
   ]
  },
  {
   "cell_type": "code",
   "execution_count": 7,
   "metadata": {},
   "outputs": [
    {
     "name": "stdout",
     "output_type": "stream",
     "text": [
      "Params:  ['work_home_driving', 'work_home_transit', 'work_bxbark_driving', 'bxbark_home_driving']\n",
      "Weekday:  5 Time Hour:  17\n"
     ]
    }
   ],
   "source": [
    "# Weekend Morning \n",
    "if (weekday > 5) & (8 <= time_hour <= 12):\n",
    "    time_based_param_set = ['home_beach_driving']\n",
    "# Weekend Evening\n",
    "elif (weekday > 5) & (12 <= time_hour <= 20):\n",
    "    time_based_param_set = ['beach_home_driving']\n",
    "# WeekDay Morning\n",
    "elif (weekday <= 5) & (5 <= time_hour <= 10):\n",
    "    time_based_param_set = ['home_work_driving', 'home_work_transit', 'home_bxbark_driving', 'bxbark_work_driving']\n",
    "# WeekDay Evening\n",
    "elif (weekday <= 5) & (15 <= time_hour <= 22):\n",
    "    time_based_param_set = ['work_home_driving', 'work_home_transit', 'work_bxbark_driving', 'bxbark_home_driving']\n",
    "else: \n",
    "    time_based_param_set = ['home_beach_driving', 'beach_home_driving']\n",
    "    print('Uhoh')\n",
    "\n",
    "print(\"Params: \", time_based_param_set)\n",
    "print('Weekday: ', weekday, \"Time Hour: \", time_hour)"
   ]
  },
  {
   "cell_type": "code",
   "execution_count": 8,
   "metadata": {},
   "outputs": [
    {
     "name": "stdout",
     "output_type": "stream",
     "text": [
      "Let's get started\n",
      "Added to /home/malcolm/WorkTransit/data/transit.db\n",
      "                  origin                  destination     mode  \\\n",
      "0  809 Washington Street    120 Benchley Pl, Bronx NY  driving   \n",
      "1  809 Washington Street    120 Benchley Pl, Bronx NY  transit   \n",
      "2  809 Washington Street  111 Bruckner Blvd, Bronx NY  driving   \n",
      "3  809 Washington Street  111 Bruckner Blvd, Bronx NY  driving   \n",
      "\n",
      "               departure_time  \\\n",
      "0  2021-09-25 17:05:33.772472   \n",
      "1  2021-09-25 17:05:33.772472   \n",
      "2  2021-09-25 17:05:33.772472   \n",
      "3  2021-09-25 17:05:33.772472   \n",
      "\n",
      "                                        Raw Response        Date   Time  \n",
      "0  [{'bounds': {'northeast': {'lat': 40.874488100...  2021-09-25  17:05  \n",
      "1  [{'bounds': {'northeast': {'lat': 40.8744862, ...  2021-09-25  17:05  \n",
      "2  [{'bounds': {'northeast': {'lat': 40.8050747, ...  2021-09-25  17:05  \n",
      "3  [{'bounds': {'northeast': {'lat': 40.8050747, ...  2021-09-25  17:05  \n",
      "Tables:  ['Raw_Responses', 'parsed_driving', 'parsed_transit']\n",
      "Latest date for parsed_transit is 2021-09-16 21:14\n",
      "Raw Response df has  1  rows\n",
      "parsed_transit  was updated with  1  rows\n",
      "Tables:  ['Raw_Responses', 'parsed_driving', 'parsed_transit']\n",
      "Latest date for parsed_driving is 2021-09-13 22:32\n",
      "Raw Response df has  0  rows\n",
      "parsed_driving  was updated with  0  rows\n"
     ]
    },
    {
     "name": "stderr",
     "output_type": "stream",
     "text": [
      "/home/malcolm/main/lib/python3.6/site-packages/pandas/core/generic.py:2615: UserWarning: The spaces in these column names will not be changed. In pandas versions < 0.14, spaces were converted to underscores.\n",
      "  method=method,\n",
      "/home/malcolm/main/lib/python3.6/site-packages/pandas/core/generic.py:2615: UserWarning: The spaces in these column names will not be changed. In pandas versions < 0.14, spaces were converted to underscores.\n",
      "  method=method,\n"
     ]
    }
   ],
   "source": [
    "try:\n",
    "    db_updater = rd.GetRawAPI()\n",
    "    db_updater.execute(param_names = time_based_param_set)\n",
    "    print(db_updater.updated_params_df)\n",
    "    \n",
    "    transit_parser = parser.RunParser('transit', 'parsed_transit')\n",
    "    transit_parser.execute()\n",
    "    \n",
    "    driving_parser = parser.RunParser('driving', 'parsed_driving')\n",
    "    driving_parser.execute()\n",
    "    \n",
    "    hp_error = None\n",
    "except Exception as e:\n",
    "    hp_error = str(e)\n",
    "    print(\"Error: \", hp_error)"
   ]
  },
  {
   "cell_type": "code",
   "execution_count": null,
   "metadata": {},
   "outputs": [],
   "source": [
    "gmail_login = \"malctaylordev@gmail.com\"\n",
    "sender_email = \"malctaylordev@gmail.com\"\n",
    "reciever_email = \"malctaylor15@gmail.com\"\n",
    "# reciever_email = gmail_login"
   ]
  },
  {
   "cell_type": "code",
   "execution_count": null,
   "metadata": {},
   "outputs": [],
   "source": [
    "with open('/home/malcolm/credentials/email_pw.pkl', 'rb') as hnd:\n",
    "    pw = pickle.load(hnd)['pw']"
   ]
  },
  {
   "cell_type": "code",
   "execution_count": null,
   "metadata": {},
   "outputs": [],
   "source": [
    "message = MIMEMultipart()\n",
    "message[\"From\"] = sender_email\n",
    "message[\"To\"] = reciever_email\n",
    "port = 465\n",
    "context = ssl.create_default_context()"
   ]
  },
  {
   "cell_type": "code",
   "execution_count": null,
   "metadata": {},
   "outputs": [],
   "source": [
    "today_str = str(datetime.datetime.now().date())\n",
    "\n",
    "if isinstance(hp_error, str):\n",
    "    subject = \"Error in Google Directions \"+today_str\n",
    "    message[\"Subject\"] = subject\n",
    "\n",
    "    \n",
    "    body = \"\"\"\n",
    "        There was an error in Google Directions data pull. \n",
    "\n",
    "        Coming from Digital Ocean Droplet \n",
    "\n",
    "        Stack Trace: \n",
    "\n",
    "        \"\"\" + hp_error\n",
    "    \n",
    "    text = MIMEText(body, \"plain\")\n",
    "    message.attach(text)\n",
    "             \n",
    "    print(\"Starting email send\")\n",
    "    with smtplib.SMTP_SSL(\"smtp.gmail.com\", port, context=context) as server:\n",
    "        server.login(gmail_login, pw)\n",
    "        message_str = message.as_string()\n",
    "        server.sendmail(gmail_login, reciever_email, message_str)\n"
   ]
  },
  {
   "cell_type": "code",
   "execution_count": null,
   "metadata": {},
   "outputs": [],
   "source": []
  },
  {
   "cell_type": "code",
   "execution_count": null,
   "metadata": {},
   "outputs": [],
   "source": []
  }
 ],
 "metadata": {
  "kernelspec": {
   "display_name": "Python 3",
   "language": "python",
   "name": "python3"
  },
  "language_info": {
   "codemirror_mode": {
    "name": "ipython",
    "version": 3
   },
   "file_extension": ".py",
   "mimetype": "text/x-python",
   "name": "python",
   "nbconvert_exporter": "python",
   "pygments_lexer": "ipython3",
   "version": "3.6.9"
  },
  "toc": {
   "base_numbering": 1,
   "nav_menu": {},
   "number_sections": true,
   "sideBar": true,
   "skip_h1_title": false,
   "title_cell": "Table of Contents",
   "title_sidebar": "Contents",
   "toc_cell": false,
   "toc_position": {},
   "toc_section_display": true,
   "toc_window_display": false
  }
 },
 "nbformat": 4,
 "nbformat_minor": 4
}
