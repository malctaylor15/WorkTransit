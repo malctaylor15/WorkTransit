{
 "cells": [
  {
   "cell_type": "code",
   "execution_count": 58,
   "metadata": {},
   "outputs": [],
   "source": [
    "import requests\n",
    "import pickle\n",
    "import json\n",
    "import os\n",
    "import googlemaps\n",
    "from datetime import datetime\n",
    "import sqlite3\n",
    "import pandas as pd\n",
    "from ast import literal_eval\n",
    "\n",
    "gmaps = googlemaps.Client(key=api_key)"
   ]
  },
  {
   "cell_type": "code",
   "execution_count": 59,
   "metadata": {},
   "outputs": [],
   "source": [
    "with open('../credentials/google_transit_api.pkl', 'rb') as hnd:\n",
    "    api_key = pickle.load(hnd)"
   ]
  },
  {
   "cell_type": "code",
   "execution_count": 60,
   "metadata": {
    "code_folding": []
   },
   "outputs": [],
   "source": [
    "now = datetime.now()\n",
    "date = str(now.date())\n",
    "time = str(now.strftime('%H:%M'))\n",
    "driving_parameters = {'origin' : \"120 Benchley Pl, Bronx NY\"\n",
    "                     , 'destination' : \"809 Washington Street\"\n",
    "                     , 'mode' : \"driving\"\n",
    "                     , 'departure_time' : now}\n",
    "\n",
    "transit_parameters = {'origin' : \"120 Benchley Pl, Bronx NY\"\n",
    "                     , 'destination' : \"809 Washington Street\"\n",
    "                     , 'mode' : \"transit\"\n",
    "                     , 'departure_time' : now}\n",
    "param_set_list = [driving_parameters, transit_parameters]"
   ]
  },
  {
   "cell_type": "code",
   "execution_count": 61,
   "metadata": {},
   "outputs": [],
   "source": [
    "os.makedirs('data', exist_ok=True)\n",
    "db_loc = 'data/transit.db'\n",
    "con = sqlite3.connect(db_loc)"
   ]
  },
  {
   "cell_type": "code",
   "execution_count": 62,
   "metadata": {},
   "outputs": [
    {
     "data": {
      "text/html": [
       "<div>\n",
       "<style scoped>\n",
       "    .dataframe tbody tr th:only-of-type {\n",
       "        vertical-align: middle;\n",
       "    }\n",
       "\n",
       "    .dataframe tbody tr th {\n",
       "        vertical-align: top;\n",
       "    }\n",
       "\n",
       "    .dataframe thead th {\n",
       "        text-align: right;\n",
       "    }\n",
       "</style>\n",
       "<table border=\"1\" class=\"dataframe\">\n",
       "  <thead>\n",
       "    <tr style=\"text-align: right;\">\n",
       "      <th></th>\n",
       "      <th>origin</th>\n",
       "      <th>destination</th>\n",
       "      <th>mode</th>\n",
       "      <th>departure_time</th>\n",
       "      <th>Raw Response</th>\n",
       "      <th>Date</th>\n",
       "      <th>Time</th>\n",
       "    </tr>\n",
       "  </thead>\n",
       "  <tbody>\n",
       "    <tr>\n",
       "      <th>0</th>\n",
       "      <td>120 Benchley Pl, Bronx NY</td>\n",
       "      <td>809 Washington Street</td>\n",
       "      <td>driving</td>\n",
       "      <td>2021-09-03 09:07:10.445214</td>\n",
       "      <td>[{'bounds': {'northeast': {'lat': 40.8745759, ...</td>\n",
       "      <td>2021-09-03</td>\n",
       "      <td>09:07</td>\n",
       "    </tr>\n",
       "    <tr>\n",
       "      <th>1</th>\n",
       "      <td>120 Benchley Pl, Bronx NY</td>\n",
       "      <td>809 Washington Street</td>\n",
       "      <td>transit</td>\n",
       "      <td>2021-09-03 09:07:10.445214</td>\n",
       "      <td>[{'bounds': {'northeast': {'lat': 40.874488100...</td>\n",
       "      <td>2021-09-03</td>\n",
       "      <td>09:07</td>\n",
       "    </tr>\n",
       "  </tbody>\n",
       "</table>\n",
       "</div>"
      ],
      "text/plain": [
       "                      origin            destination     mode  \\\n",
       "0  120 Benchley Pl, Bronx NY  809 Washington Street  driving   \n",
       "1  120 Benchley Pl, Bronx NY  809 Washington Street  transit   \n",
       "\n",
       "              departure_time  \\\n",
       "0 2021-09-03 09:07:10.445214   \n",
       "1 2021-09-03 09:07:10.445214   \n",
       "\n",
       "                                        Raw Response        Date   Time  \n",
       "0  [{'bounds': {'northeast': {'lat': 40.8745759, ...  2021-09-03  09:07  \n",
       "1  [{'bounds': {'northeast': {'lat': 40.874488100...  2021-09-03  09:07  "
      ]
     },
     "execution_count": 62,
     "metadata": {},
     "output_type": "execute_result"
    }
   ],
   "source": [
    "updated_params_list = []\n",
    "for param_set in param_set_list:\n",
    "    param_set2 = param_set.copy()\n",
    "    temp_result = gmaps.directions(**param_set)\n",
    "    param_set2.update({'Raw Response' : temp_result\n",
    "                      , 'Date' : date\n",
    "                      , 'Time' : time})\n",
    "    updated_params_list.append(param_set2)\n",
    "updated_params_df = pd.DataFrame(updated_params_list)\n",
    "updated_params_df"
   ]
  },
  {
   "cell_type": "code",
   "execution_count": 63,
   "metadata": {},
   "outputs": [
    {
     "data": {
      "text/html": [
       "<div>\n",
       "<style scoped>\n",
       "    .dataframe tbody tr th:only-of-type {\n",
       "        vertical-align: middle;\n",
       "    }\n",
       "\n",
       "    .dataframe tbody tr th {\n",
       "        vertical-align: top;\n",
       "    }\n",
       "\n",
       "    .dataframe thead th {\n",
       "        text-align: right;\n",
       "    }\n",
       "</style>\n",
       "<table border=\"1\" class=\"dataframe\">\n",
       "  <thead>\n",
       "    <tr style=\"text-align: right;\">\n",
       "      <th></th>\n",
       "      <th>origin</th>\n",
       "      <th>destination</th>\n",
       "      <th>mode</th>\n",
       "      <th>departure_time</th>\n",
       "      <th>Raw Response</th>\n",
       "      <th>Date</th>\n",
       "      <th>Time</th>\n",
       "    </tr>\n",
       "  </thead>\n",
       "  <tbody>\n",
       "    <tr>\n",
       "      <th>0</th>\n",
       "      <td>120 Benchley Pl, Bronx NY</td>\n",
       "      <td>809 Washington Street</td>\n",
       "      <td>driving</td>\n",
       "      <td>2021-09-03 09:07:10.445214</td>\n",
       "      <td>[{'bounds': {'northeast': {'lat': 40.8745759, ...</td>\n",
       "      <td>2021-09-03</td>\n",
       "      <td>09:07</td>\n",
       "    </tr>\n",
       "    <tr>\n",
       "      <th>1</th>\n",
       "      <td>120 Benchley Pl, Bronx NY</td>\n",
       "      <td>809 Washington Street</td>\n",
       "      <td>transit</td>\n",
       "      <td>2021-09-03 09:07:10.445214</td>\n",
       "      <td>[{'bounds': {'northeast': {'lat': 40.874488100...</td>\n",
       "      <td>2021-09-03</td>\n",
       "      <td>09:07</td>\n",
       "    </tr>\n",
       "  </tbody>\n",
       "</table>\n",
       "</div>"
      ],
      "text/plain": [
       "                      origin            destination     mode  \\\n",
       "0  120 Benchley Pl, Bronx NY  809 Washington Street  driving   \n",
       "1  120 Benchley Pl, Bronx NY  809 Washington Street  transit   \n",
       "\n",
       "               departure_time  \\\n",
       "0  2021-09-03 09:07:10.445214   \n",
       "1  2021-09-03 09:07:10.445214   \n",
       "\n",
       "                                        Raw Response        Date   Time  \n",
       "0  [{'bounds': {'northeast': {'lat': 40.8745759, ...  2021-09-03  09:07  \n",
       "1  [{'bounds': {'northeast': {'lat': 40.874488100...  2021-09-03  09:07  "
      ]
     },
     "execution_count": 63,
     "metadata": {},
     "output_type": "execute_result"
    }
   ],
   "source": [
    "updated_params_df = pd.DataFrame(updated_params_list)\n",
    "updated_params_df['Raw Response'] = updated_params_df['Raw Response'].astype(str)\n",
    "updated_params_df['departure_time'] = updated_params_df['departure_time'].astype(str)\n",
    "updated_params_df"
   ]
  },
  {
   "cell_type": "code",
   "execution_count": 64,
   "metadata": {},
   "outputs": [
    {
     "name": "stderr",
     "output_type": "stream",
     "text": [
      "/home/malcolm/main/lib/python3.6/site-packages/pandas/core/generic.py:2615: UserWarning: The spaces in these column names will not be changed. In pandas versions < 0.14, spaces were converted to underscores.\n",
      "  method=method,\n"
     ]
    }
   ],
   "source": [
    "updated_params_df.to_sql('Raw_Responses', con, index=False, if_exists='append' )\n",
    "con.commit()"
   ]
  },
  {
   "cell_type": "code",
   "execution_count": 65,
   "metadata": {},
   "outputs": [],
   "source": [
    "updated_params_df['Raw Response_parsed'] = updated_params_df['Raw Response'].apply(lambda x: literal_eval(x))"
   ]
  },
  {
   "cell_type": "code",
   "execution_count": 66,
   "metadata": {},
   "outputs": [
    {
     "data": {
      "text/plain": [
       "[{'bounds': {'northeast': {'lat': 40.8745759, 'lng': -73.8244052},\n",
       "   'southwest': {'lat': 40.7391335, 'lng': -74.00886710000002}},\n",
       "  'copyrights': 'Map data ©2021 Google',\n",
       "  'legs': [{'distance': {'text': '18.6 mi', 'value': 29890},\n",
       "    'duration': {'text': '47 mins', 'value': 2825},\n",
       "    'duration_in_traffic': {'text': '45 mins', 'value': 2723},\n",
       "    'end_address': '809 Washington St, New York, NY 10014, USA',\n",
       "    'end_location': {'lat': 40.7391335, 'lng': -74.0080765},\n",
       "    'start_address': '120 Benchley Pl, Bronx, NY 10475, USA',\n",
       "    'start_location': {'lat': 40.87448810000001, 'lng': -73.82567019999999},\n",
       "    'steps': [{'distance': {'text': '210 ft', 'value': 64},\n",
       "      'duration': {'text': '1 min', 'value': 23},\n",
       "      'end_location': {'lat': 40.87422850000001, 'lng': -73.8257921},\n",
       "      'html_instructions': 'Head <b>northwest</b> toward <b>Benchley Pl</b>',\n",
       "      'polyline': {'points': 'qhnxFlaraMA?A@A?A@A@A@?@A??@A@?@?@?@?@A??@?@?@?@@??@?@?@?@@??@?@@??@@??@@@@??@@?@@@?@?@?@?@?j@['},\n",
       "      'start_location': {'lat': 40.87448810000001, 'lng': -73.82567019999999},\n",
       "      'travel_mode': 'DRIVING'},\n",
       "     {'distance': {'text': '187 ft', 'value': 57},\n",
       "      'duration': {'text': '1 min', 'value': 53},\n",
       "      'end_location': {'lat': 40.873769, 'lng': -73.82609219999999},\n",
       "      'html_instructions': 'Turn <b>right</b> onto <b>Benchley Pl</b>',\n",
       "      'maneuver': 'turn-right',\n",
       "      'polyline': {'points': '}fnxFdbraMLJLDJFNJXNHD'},\n",
       "      'start_location': {'lat': 40.87422850000001, 'lng': -73.8257921},\n",
       "      'travel_mode': 'DRIVING'},\n",
       "     {'distance': {'text': '463 ft', 'value': 141},\n",
       "      'duration': {'text': '1 min', 'value': 48},\n",
       "      'end_location': {'lat': 40.87368499999999, 'lng': -73.8244583},\n",
       "      'html_instructions': 'Turn <b>left</b> onto <b>Bellamy Loop</b>',\n",
       "      'maneuver': 'turn-left',\n",
       "      'polyline': {'points': 'adnxF`draMLa@DUDUBU@YAU?AE{AEsA'},\n",
       "      'start_location': {'lat': 40.873769, 'lng': -73.82609219999999},\n",
       "      'travel_mode': 'DRIVING'},\n",
       "     {'distance': {'text': '0.3 mi', 'value': 497},\n",
       "      'duration': {'text': '2 mins', 'value': 103},\n",
       "      'end_location': {'lat': 40.8695863, 'lng': -73.826263},\n",
       "      'html_instructions': 'Turn <b>right</b> onto <b>Co Op City Blvd</b>',\n",
       "      'maneuver': 'turn-right',\n",
       "      'polyline': {'points': 'ocnxFzyqaMRCVCTAX?L?N?T?R@J?L@J@F@L@`@FVFv@PLDB?RHRHRJPJFDFDHFLF\\\\Z`@^JJVXJNNTLN@@FHTTPLB@NHLFNDLDB@LBN@J@NBX@'},\n",
       "      'start_location': {'lat': 40.87368499999999, 'lng': -73.8244583},\n",
       "      'travel_mode': 'DRIVING'},\n",
       "     {'distance': {'text': '0.4 mi', 'value': 606},\n",
       "      'duration': {'text': '3 mins', 'value': 158},\n",
       "      'end_location': {'lat': 40.8683955, 'lng': -73.8331997},\n",
       "      'html_instructions': 'Turn <b>right</b> onto <b>Bartow Ave</b>',\n",
       "      'maneuver': 'turn-right',\n",
       "      'polyline': {'points': '}imxFberaMA`@?BAZA\\\\?ZAN?L?V?b@?Z?Z?@@N?H?Z@Z@\\\\Bf@Bd@@^BR@R@TBP?FBZFh@?D@JBNDRFb@@JDTDVDVDXXbBHf@XdBHXFZZvADR?DLd@?DNh@Nh@'},\n",
       "      'start_location': {'lat': 40.8695863, 'lng': -73.826263},\n",
       "      'travel_mode': 'DRIVING'},\n",
       "     {'distance': {'text': '0.2 mi', 'value': 305},\n",
       "      'duration': {'text': '1 min', 'value': 59},\n",
       "      'end_location': {'lat': 40.8658867, 'lng': -73.83174020000001},\n",
       "      'html_instructions': 'Turn <b>left</b> onto <b>Edson Ave</b>',\n",
       "      'maneuver': 'turn-left',\n",
       "      'polyline': {'points': 'obmxFnpsaMVIXQFC^Sf@SBA~Aw@^Sz@a@DCfAk@dB{@'},\n",
       "      'start_location': {'lat': 40.8683955, 'lng': -73.8331997},\n",
       "      'travel_mode': 'DRIVING'},\n",
       "     {'distance': {'text': '2.1 mi', 'value': 3347},\n",
       "      'duration': {'text': '3 mins', 'value': 156},\n",
       "      'end_location': {'lat': 40.8370699, 'lng': -73.8252993},\n",
       "      'html_instructions': 'Merge onto <b>I-95 S</b>/<wbr/><b>New England Thruway</b> via the ramp on the <b>left</b> to <b>Geo Washington Bridge</b><div style=\"font-size:0.9em\">Continue to follow I-95 S</div>',\n",
       "      'maneuver': 'ramp-left',\n",
       "      'polyline': {'points': 'yrlxFjgsaMLSPQXW@?HKNIFEBCFEHERMx@c@BAd@QrDsAHG@A@CBKxCaAn@SBCVMHCTMHEFC^UVQNKjAy@bBmBDE`@e@^g@^c@^YJKJG@AXQXOXKf@MZE\\\\IJCNCt@Ur@SXKZMREZGf@Kf@I@A^G\\\\E@?t@IFAf@E|@G@?@?XC`@Eh@EbAGBANANCh@A|@ETE`ACH?JAp@AZ@h@@R@^DN@RBNBB?z@N\\\\H\\\\HhAVxBf@j@N@?d@JVFhB`@f@FTBn@Fd@@\\\\@lA?v@EjAKjAQbAYTG`A]fAg@xEiBbAWPGXE@?j@ITAHCJ?h@Cl@Av@AL?H?jEEJ?fAAD?P?n@AnCCfAAjBAVAJ?jBA|GG^Ah@A^CJAFAz@KLCbAQb@Kd@Q'},\n",
       "      'start_location': {'lat': 40.8658867, 'lng': -73.83174020000001},\n",
       "      'travel_mode': 'DRIVING'},\n",
       "     {'distance': {'text': '0.6 mi', 'value': 1039},\n",
       "      'duration': {'text': '1 min', 'value': 46},\n",
       "      'end_location': {'lat': 40.8304426, 'lng': -73.8327629},\n",
       "      'html_instructions': 'Keep <b>right</b> at the fork to stay on <b>I-95 S</b>, follow signs for <b>Triboro Bridge</b>/<wbr/><b>Geo Washington Bridge</b>',\n",
       "      'maneuver': 'fork-right',\n",
       "      'polyline': {'points': 'u~fxFb_raM^Ct@SVERCRCVAB?D?J?P?B?RBV@RBTDTDRFRHJDHBFDJDDBDBDB@@PJDDJHPNPPPPLPHJHHDHFHLRDJFJFPBDXr@z@xBj@xARh@JRHTDNBDHRDLNZDHFLP\\\\Tb@Zj@Zl@hCzEf@~@rAdCVd@Tb@f@`An@lA'},\n",
       "      'start_location': {'lat': 40.8370699, 'lng': -73.8252993},\n",
       "      'travel_mode': 'DRIVING'},\n",
       "     {'distance': {'text': '5.4 mi', 'value': 8636},\n",
       "      'duration': {'text': '15 mins', 'value': 892},\n",
       "      'end_location': {'lat': 40.846018, 'lng': -73.9302397},\n",
       "      'html_instructions': 'Keep <b>right</b> at the fork to stay on <b>I-95 S</b>, follow signs for <b>Cross Bronx Expy</b>/<wbr/><b>Geo Washington Bridge</b>/<wbr/><b>S Interstate 678</b>',\n",
       "      'maneuver': 'fork-right',\n",
       "      'polyline': {'points': 'guexFvmsaMB\\\\JXBHHRFXHZDVDXDTD`@?LBP@X@\\\\@X?^AX?\\\\A\\\\?VA|@AX?ZA\\\\?V?\\\\@N?H?^@X@Z@\\\\@N?LFx@B^Hv@@NFh@B`@Ff@Df@Jz@Hz@Jz@Hz@J~@Fl@NzANnABPRjB@PHl@Hp@Hf@Fb@Hv@B^BT@\\\\BP?J@T@T?V@D?R?F?R?@?f@A\\\\A\\\\AZ?P@F?NEr@Gv@MhAALAHMz@S|@?BU`AABK`@U~@g@xBSx@EPMn@I^ERCHAFGXI\\\\AD?DKb@CJEPGVA@CPG^ETI^gBzIG\\\\y@bEw@zDG`@o@|CETgBtIk@tCKj@[vA}@lEAF?@AH?@ADKb@G`@Qv@Kj@_@lBUfA]dBENEVa@nBG^k@pCg@dC[vACR}@jEI^m@~C_@jBs@rD]lBMv@QtACLIl@APEXALCRMvAMzAGbAE~@Cl@Ah@EhAAt@EjA?HC~@?ZA\\\\?FCr@?BAb@InDC|@At@?DADE~AC|@Eh@C\\\\C\\\\CZCZCZE\\\\CXEZStAEZEZGXEXEVGVGVGVGVQr@ABABQj@Oh@Wz@M^EPGPGNGLGNMXMVMZMZ{@hB_AnBA@}@nBwEbKq@xAi@lAwBvEqBjE_ArBk@jAMVUj@MZQd@Sh@KXGVOh@[lAUfACPI`@OjAETIn@I~@GfAG|@WrEALCZ?HCd@Cb@QjCCl@IhAQlCKzBg@rIC`@C`@SzDE`@Cb@OjCKlBC\\\\E~@G|@G~AI|AE~@Cx@ALA`@K~CE|AAT?J?JAPAZAj@An@AV?TAj@Ar@Cl@AXCtBCp@Aj@?ZARC|AElB?d@EfC?J?DAl@A~@AdA?f@AtAA|@?n@CpA?t@@t@@rC@fC@n@@n@@x@F|CDtB@f@@V?V@b@@J@l@D~BHdDDfBD|A@l@?@D|A@n@FlC@ND~A?\\\\@t@?h@AtAAZAZEdAEd@Gr@E\\\\?FG`@In@Kn@G`@O`AYlAE\\\\EXUxAKl@YfBM~@Gd@Id@CP?BUzA'},\n",
       "      'start_location': {'lat': 40.8304426, 'lng': -73.8327629},\n",
       "      'travel_mode': 'DRIVING'},\n",
       "     {'distance': {'text': '0.6 mi', 'value': 901},\n",
       "      'duration': {'text': '1 min', 'value': 82},\n",
       "      'end_location': {'lat': 40.8493445, 'lng': -73.939921},\n",
       "      'html_instructions': 'Keep <b>right</b> at the fork to continue on <b>Interstate 95 Lower Level S</b>/<wbr/><b>Trans-Manhattan Expy</b>/<wbr/><b>U.S. 1 Lower Level S</b>, follow signs for <b>Interstate 95 S</b>/<wbr/><b>US 1 S</b>/<wbr/><b>G W Bridge Lower Level</b>',\n",
       "      'maneuver': 'fork-right',\n",
       "      'polyline': {'points': 'svhxF~nfbMWr@IZAFMj@ITGNADITm@pBGTAFA@w@fCK^_@~AGRg@dBe@xAQf@?@yAlEc@dAk@fBi@~ACLGj@Gt@AHY`C?@QvASfB?@?@E\\\\QtB'},\n",
       "      'start_location': {'lat': 40.846018, 'lng': -73.9302397},\n",
       "      'travel_mode': 'DRIVING'},\n",
       "     {'distance': {'text': '8.6 mi', 'value': 13807},\n",
       "      'duration': {'text': '17 mins', 'value': 1006},\n",
       "      'end_location': {'lat': 40.74252449999999, 'lng': -74.00886710000002},\n",
       "      'html_instructions': 'Take exit <b>1</b> to merge onto <b>NY-9A S</b>',\n",
       "      'maneuver': 'ramp-right',\n",
       "      'polyline': {'points': 'kkixFnkhbMIPCJENGf@G^A@ETCHEHADINCDEHKFC@G@I?WEICG?QEOAO@IDKDEDC@KNGJEJCJCJALAH?B?L?H?H@@?D@D?F@B@D@B@BNZHNLPPTB@HHLJTLDBRHD@B@@@@?B@@?D@@@@?D@B@@?@@@?B@D?@@@?@?D@@?D@B@@?F@TDD@PDd@JF@ZDh@JPBZFVDJBH@J@RBLBHBRBHBB?RBXDH@N@D@L@J@B?D@DBHFbCAF?B?J?T?J@D@@?FFXBVBTHXLHFHFHHFLFNDJDNPz@BFJd@@DBHDRDJ@BFLBHFHFHBBFFHHJF@@JFLFJDNDJB@?JBL@L@L@N?b@?`@@hA@`AFD@@?b@Dz@HH@H@XB@?TDH@@@D?TDL?ZDtA\\\\d@Ph@Rz@^d@Tl@Zb@Vh@\\\\`@Xd@\\\\b@ZDDHF`@ZPNb@^`@`@`@\\\\VVHHNNBBPNf@d@TTTRTTVRTNPLRLPHHDD@THJDRFFBJBPD^Hj@LH@t@Nh@Jf@JfARXFVFNB`@Hh@LNBh@JZFhB^PB?@XDVFXDTFj@JhDt@ZHXFXHVFTHXHTH^Ln@XbAd@@@l@Z^Tx@h@`@VZTTNHH\\\\XFDp@n@ZX@?`A|@h@f@`@\\\\^\\\\f@d@zBpBzBrBnAhAZZ|ArAh@b@`@\\\\RN@@b@Z\\\\T`Ar@nA|@B@XRd@\\\\ZRpBxAr@f@TNpA~@NJHDDD@@NJ`@X^XJH`BnAHB?@B@f@`@NLr@n@^\\\\DB@@VTBBDDLJTRRPLJ@@XVb@^VT@@@??@\\\\Z@@`@b@d@d@`@b@@@HH@@@@JLJJBB@@pArAFHJJd@d@JL@@NNp@p@l@j@^^|@r@JHl@b@NJv@j@RJLFJF\\\\P`@Rz@`@LFj@Xr@^f@XZPhAv@B@@@\\\\T^VZV`@VJJBBHDx@j@VR^T|A`ApAr@|IzEh@XjBfAnAx@x@f@~AdAnA|@hChBdAt@lA|@b@XLJp@f@x@j@rBvALJ@@lErCLHpErCB@HFt@b@^Rn@^dAh@l@X^RPFd@R^LfA^THTFd@L@?@@@?F@?@b@JhBf@zBr@VHdA\\\\^N`@PjAl@ZPd@^n@j@f@d@fAhAp@z@~@fAz@fA\\\\^?@@@FF@@TXr@v@r@r@bAbAfA~@B@zAhA|@p@\\\\VD@bAr@hAr@h@Z`Ah@~@h@\\\\NB@`Bv@`@Pr@VdBr@n@TTD?@@?RFXHF@HBNDDBpElALBTFb@Lh@P\\\\LPHLDLHRHFDLFTLJJLFJFDBHDLHf@Z~A`Az@h@nAx@x@h@bAn@|CtBzA`Ah@\\\\t@f@NLTRdAbAZZ`@`@`@\\\\ZXTPPLLJz@n@r@d@p@d@z@h@bBhABBTPVNDBh@\\\\`BfAd@XBB^VHDPLRL~B|ALH\\\\THFTN@?|@l@HD|BzARNRL~AdAjAt@PJ^TpBpAp@b@JHd@Z`BfAl@`@JDRLLHLFNFLDJBLDJBPDXDLBV@VBzBNNBB?RBPBj@Nr@X`@XjBlAzBxAzBxAd@ZnAx@FDzBvAl@`@nAx@PLLFdBjAvBtANJz@l@PJLHRNHJPPJHLNLNLPRVT\\\\\\\\n@d@t@NRz@xAHNHJJLBDBDBBNPFHDDJJJHTPv@h@b@X\\\\VdAp@TNPLJF~@l@TLbBhA|@l@^TrCjBbAp@bAp@xBvAZRvFpD|@l@j@^dBjARLVPHFPJRHJFJDLFNDLBXHbG~AlBj@p@Pj@Nh@Nf@L\\\\JLDPBJBPBP@P?N@J?L?L?HALABA\\\\Gz@YZQNGPIPKNGTIXKPELCPAD?LCJ?X?J?J@t@Fz@JzAPf@FnCXp@FnANp@FjBT^BN@xAPZDXDp@HP@F?JBXBZBVDrAN'},\n",
       "      'start_location': {'lat': 40.8493445, 'lng': -73.939921},\n",
       "      'travel_mode': 'DRIVING'},\n",
       "     {'distance': {'text': '0.1 mi', 'value': 190},\n",
       "      'duration': {'text': '2 mins', 'value': 94},\n",
       "      'end_location': {'lat': 40.7416435, 'lng': -74.0070066},\n",
       "      'html_instructions': 'Turn <b>left</b> onto <b>W 14th St</b>',\n",
       "      'maneuver': 'turn-left',\n",
       "      'polyline': {'points': 'wotwFlzubM^_@@S@QNW\\\\g@?SBMX{@BIBEVu@^iA'},\n",
       "      'start_location': {'lat': 40.74252449999999, 'lng': -74.00886710000002},\n",
       "      'travel_mode': 'DRIVING'},\n",
       "     {'distance': {'text': '0.2 mi', 'value': 300},\n",
       "      'duration': {'text': '2 mins', 'value': 105},\n",
       "      'end_location': {'lat': 40.7391335, 'lng': -74.0080765},\n",
       "      'html_instructions': 'Turn <b>right</b> onto <b>Washington St</b><div style=\"font-size:0.9em\">Destination will be on the left</div>',\n",
       "      'maneuver': 'turn-right',\n",
       "      'polyline': {'points': 'gjtwFxnubMPJvBvA~@l@D@x@h@FBD@D?dDJT@ZB'},\n",
       "      'start_location': {'lat': 40.7416435, 'lng': -74.0070066},\n",
       "      'travel_mode': 'DRIVING'}],\n",
       "    'traffic_speed_entry': [],\n",
       "    'via_waypoint': []}],\n",
       "  'overview_polyline': {'points': 'qhnxFlaraMKFENBNJJF?@?j@[LJXLh@ZHDLa@Jk@BgAKoDj@GlAAbABbAL`B^lAj@f@ZbB`Bj@v@r@n@z@\\\\l@Hh@DAd@EdB?dBDlCTdE`@jD~AjJh@lCl@~BdGuCnFmC^e@ZWd@_@~A}@fFoBBEBKxCaAr@W`@QfAm@rBwAhBsB`AmAvAqAnAo@bASh@MrCy@rBg@fBYbE]rD[~DQbBAlBJbBVlHbB|@RpCh@hCNlA?bCQnCk@vAe@`HqCtA_@|AQlBIzGG~MKlLKtBItCc@hA]tAWvAOf@?bAHrA\\\\|@b@t@j@z@`Ad@p@Xn@tDpJd@fAjAzBfLhTNv@L\\\\\\\\fBNvADpBI~FFbEd@jGlAlLv@hH^xCXpCFpABlCEhB@VMjB_@|Ck@fCaCjKi@dCsCnNwLlm@mJle@kC~MaAhGSfBg@jG]lLUjKI`DQbDQpBc@fDy@fEcB~FwAhDgRna@kFbLu@lBw@dCq@tCMr@i@pEi@fJ}@`OiB`\\\\u@fO[tKKbFS~JSxNE`GAlFFzJPtJ\\\\zO^xO?rEObDUzBm@bE_@jB[rB{@zFc@vCa@nAOr@Sj@aAdDy@hCk@~BgBzFyAnEoAlDm@lBO`B[lCe@~DWvCM\\\\Mv@S`AQ^INOHQ@a@IYE_@?_@R]r@Gf@Dz@Th@l@x@r@f@^NVFTFrB`@vGdA|APNJjCAp@@F@`@Jl@Lb@TRPN\\\\`@~AVhARf@Z^b@Zt@Vh@FbBBhA@`AFF@hBPz@Jf@Hh@DzBn@dBr@rAp@tClBtAdAxBnBzCtCtAfAt@^|@ZhB`@zGpA|GtAlJnB`Bd@t@VrB~@hC|A|AfAbGlF~HhHrF|EnGtExJbH~EnD|FbFxBnBxB|BhDnDnApAvChChCfBxAt@hDbBpCdBvCtBnEvCnLnGtC`BxHdF`IvFlFvDjFjDtG`EbEvBvB|@xC~@vGlB|Bv@lB~@`Ap@vApAxBdCxCpD`@d@fBjBjCbC|C|BpD`ChE~BfCjAxCjAdAZn@R`IvBfBn@v@`@`CxAdHnEfJdGdAt@zAvAzBtBpBzAdG~DlFlDjRbMlHvE`EjC~@f@r@RpAPfDVd@F~Ah@dKzGxFrDfMlI|@p@x@z@tAvBzBrD~@jAdBpA|CrBhMjIdVzOfAr@x@^pPpEdBb@`AHv@@x@MvAk@`@QpAi@^IVA~@CrO`BlEb@`Ef@~@Hr@HrAN^_@Be@l@_ABa@\\\\eAZ{@^iAPJvDdC~@j@LDjDJp@D'},\n",
       "  'summary': 'I-95 S and NY-9A S',\n",
       "  'warnings': [],\n",
       "  'waypoint_order': []}]"
      ]
     },
     "execution_count": 66,
     "metadata": {},
     "output_type": "execute_result"
    }
   ],
   "source": [
    "updated_params_df['Raw Response_parsed'].iloc[0]"
   ]
  },
  {
   "cell_type": "code",
   "execution_count": null,
   "metadata": {},
   "outputs": [],
   "source": []
  },
  {
   "cell_type": "code",
   "execution_count": 3,
   "metadata": {},
   "outputs": [],
   "source": [
    "\n",
    "\n",
    "# Geocoding an address\n",
    "# geocode_result = gmaps.geocode('1600 Amphitheatre Parkway, Mountain View, CA')\n",
    "\n",
    "# # Look up an address with reverse geocoding\n",
    "# reverse_geocode_result = gmaps.reverse_geocode((40.872667, -73.825169))\n",
    "\n",
    "# Request directions via public transit\n",
    "driving_directions_result = gmaps.directions(\"120 Benchley Pl, Bronx NY\",\n",
    "                                     \"809 Washington Street\",\n",
    "                                     mode=\"driving\", \n",
    "                                     # mode='transit',\n",
    "                                     departure_time=now)\n",
    "\n",
    "transit_directions_result = gmaps.directions(\"120 Benchley Pl, Bronx NY\",\n",
    "                                     \"809 Washington Street\",\n",
    "#                                      mode=\"driving\", \n",
    "                                     mode='transit',\n",
    "                                     departure_time=now)"
   ]
  },
  {
   "cell_type": "code",
   "execution_count": 8,
   "metadata": {},
   "outputs": [
    {
     "data": {
      "text/plain": [
       "'00:27'"
      ]
     },
     "execution_count": 8,
     "metadata": {},
     "output_type": "execute_result"
    }
   ],
   "source": [
    "date = str(now.date())\n",
    "transit_save_loc = f'data/transit/{date}/'\n",
    "driving_save_loc = f'data/driving/{date}/'\n",
    "os.makedirs(transit_save_loc, exist_ok=True)\n",
    "os.makedirs(driving_save_loc, exist_ok=True)\n",
    "time = now.strftime('%H:%M')\n",
    "time"
   ]
  },
  {
   "cell_type": "code",
   "execution_count": 11,
   "metadata": {},
   "outputs": [],
   "source": [
    "with open(transit_save_loc + time + '.json', 'w') as hnd:\n",
    "    json.dump(transit_directions_result, hnd)"
   ]
  },
  {
   "cell_type": "code",
   "execution_count": 10,
   "metadata": {},
   "outputs": [],
   "source": [
    "with open(driving_save_loc + time + '.json', 'w') as hnd:\n",
    "    json.dump(driving_directions_result, hnd)"
   ]
  },
  {
   "cell_type": "code",
   "execution_count": null,
   "metadata": {},
   "outputs": [],
   "source": []
  },
  {
   "cell_type": "code",
   "execution_count": null,
   "metadata": {},
   "outputs": [],
   "source": []
  },
  {
   "cell_type": "code",
   "execution_count": 4,
   "metadata": {
    "scrolled": false
   },
   "outputs": [
    {
     "name": "stdout",
     "output_type": "stream",
     "text": [
      "1\n"
     ]
    },
    {
     "data": {
      "text/plain": [
       "dict_keys(['bounds', 'copyrights', 'legs', 'overview_polyline', 'summary', 'warnings', 'waypoint_order'])"
      ]
     },
     "execution_count": 4,
     "metadata": {},
     "output_type": "execute_result"
    }
   ],
   "source": [
    "print(len(directions_result))\n",
    "directions_result[0].keys()"
   ]
  },
  {
   "cell_type": "code",
   "execution_count": 5,
   "metadata": {},
   "outputs": [
    {
     "data": {
      "text/plain": [
       "'I-678 S'"
      ]
     },
     "execution_count": 5,
     "metadata": {},
     "output_type": "execute_result"
    }
   ],
   "source": [
    "directions_result[0]['summary']"
   ]
  },
  {
   "cell_type": "code",
   "execution_count": 6,
   "metadata": {
    "scrolled": true
   },
   "outputs": [
    {
     "name": "stdout",
     "output_type": "stream",
     "text": [
      "dict_keys(['distance', 'duration', 'duration_in_traffic', 'end_address', 'end_location', 'start_address', 'start_location', 'steps', 'traffic_speed_entry', 'via_waypoint'])\n"
     ]
    },
    {
     "data": {
      "text/plain": [
       "[{'distance': {'text': '20.8 mi', 'value': 33530},\n",
       "  'duration': {'text': '45 mins', 'value': 2719},\n",
       "  'duration_in_traffic': {'text': '35 mins', 'value': 2077},\n",
       "  'end_address': '508 LaGuardia Pl, New York, NY 10012, USA',\n",
       "  'end_location': {'lat': 40.7277026, 'lng': -73.9992836},\n",
       "  'start_address': '120 Benchley Pl, Bronx, NY 10475, USA',\n",
       "  'start_location': {'lat': 40.87448810000001, 'lng': -73.82567019999999},\n",
       "  'steps': [{'distance': {'text': '210 ft', 'value': 64},\n",
       "    'duration': {'text': '1 min', 'value': 23},\n",
       "    'end_location': {'lat': 40.87422850000001, 'lng': -73.8257921},\n",
       "    'html_instructions': 'Head <b>northwest</b> toward <b>Benchley Pl</b>',\n",
       "    'polyline': {'points': 'qhnxFlaraMA?A@A?A@A@A@?@A??@A@?@?@?@?@A??@?@?@?@@??@?@?@?@@??@?@@??@@??@@@@??@@?@@@?@?@?@?@?j@['},\n",
       "    'start_location': {'lat': 40.87448810000001, 'lng': -73.82567019999999},\n",
       "    'travel_mode': 'DRIVING'},\n",
       "   {'distance': {'text': '187 ft', 'value': 57},\n",
       "    'duration': {'text': '1 min', 'value': 56},\n",
       "    'end_location': {'lat': 40.873769, 'lng': -73.82609219999999},\n",
       "    'html_instructions': 'Turn <b>right</b> onto <b>Benchley Pl</b>',\n",
       "    'maneuver': 'turn-right',\n",
       "    'polyline': {'points': '}fnxFdbraMLJLDJFNJXNHD'},\n",
       "    'start_location': {'lat': 40.87422850000001, 'lng': -73.8257921},\n",
       "    'travel_mode': 'DRIVING'},\n",
       "   {'distance': {'text': '463 ft', 'value': 141},\n",
       "    'duration': {'text': '1 min', 'value': 49},\n",
       "    'end_location': {'lat': 40.87368499999999, 'lng': -73.8244583},\n",
       "    'html_instructions': 'Turn <b>left</b> onto <b>Bellamy Loop</b>',\n",
       "    'maneuver': 'turn-left',\n",
       "    'polyline': {'points': 'adnxF`draMLa@DUDUBU@YAU?AE{AEsA'},\n",
       "    'start_location': {'lat': 40.873769, 'lng': -73.82609219999999},\n",
       "    'travel_mode': 'DRIVING'},\n",
       "   {'distance': {'text': '0.3 mi', 'value': 497},\n",
       "    'duration': {'text': '2 mins', 'value': 107},\n",
       "    'end_location': {'lat': 40.8695863, 'lng': -73.826263},\n",
       "    'html_instructions': 'Turn <b>right</b> onto <b>Co Op City Blvd</b>',\n",
       "    'maneuver': 'turn-right',\n",
       "    'polyline': {'points': 'ocnxFzyqaMRCVCTAX?L?N?T?R@J?L@J@F@L@`@FVFv@PLDB?RHRHRJPJFDFDHFLF\\\\Z`@^JJVXJNNTLN@@FHTTPLB@NHLFNDLDB@LBN@J@NBX@'},\n",
       "    'start_location': {'lat': 40.87368499999999, 'lng': -73.8244583},\n",
       "    'travel_mode': 'DRIVING'},\n",
       "   {'distance': {'text': '0.4 mi', 'value': 606},\n",
       "    'duration': {'text': '3 mins', 'value': 155},\n",
       "    'end_location': {'lat': 40.8683955, 'lng': -73.8331997},\n",
       "    'html_instructions': 'Turn <b>right</b> onto <b>Bartow Ave</b>',\n",
       "    'maneuver': 'turn-right',\n",
       "    'polyline': {'points': '}imxFberaMA`@?BAZA\\\\?ZAN?L?V?b@?Z?Z?@@N?H?Z@Z@\\\\Bf@Bd@@^BR@R@TBP?FBZFh@?D@JBNDRFb@@JDTDVDVDXXbBHf@XdBHXFZZvADR?DLd@?DNh@Nh@'},\n",
       "    'start_location': {'lat': 40.8695863, 'lng': -73.826263},\n",
       "    'travel_mode': 'DRIVING'},\n",
       "   {'distance': {'text': '0.2 mi', 'value': 305},\n",
       "    'duration': {'text': '1 min', 'value': 60},\n",
       "    'end_location': {'lat': 40.8658867, 'lng': -73.83174020000001},\n",
       "    'html_instructions': 'Turn <b>left</b> onto <b>Edson Ave</b>',\n",
       "    'maneuver': 'turn-left',\n",
       "    'polyline': {'points': 'obmxFnpsaMVIXQFC^Sf@SBA~Aw@^Sz@a@DCfAk@dB{@'},\n",
       "    'start_location': {'lat': 40.8683955, 'lng': -73.8331997},\n",
       "    'travel_mode': 'DRIVING'},\n",
       "   {'distance': {'text': '2.1 mi', 'value': 3347},\n",
       "    'duration': {'text': '3 mins', 'value': 164},\n",
       "    'end_location': {'lat': 40.8370699, 'lng': -73.8252993},\n",
       "    'html_instructions': 'Merge onto <b>I-95 S</b>/<wbr/><b>New England Thruway</b> via the ramp on the <b>left</b> to <b>Geo Washington Bridge</b><div style=\"font-size:0.9em\">Continue to follow I-95 S</div>',\n",
       "    'maneuver': 'ramp-left',\n",
       "    'polyline': {'points': 'yrlxFjgsaMLSPQXW@?HKNIFEBCFEHERMx@c@BAd@QrDsAHG@A@CBKxCaAn@SBCVMHCTMHEFC^UVQNKjAy@bBmBDE`@e@^g@^c@^YJKJG@AXQXOXKf@MZE\\\\IJCNCt@Ur@SXKZMREZGf@Kf@I@A^G\\\\E@?t@IFAf@E|@G@?@?XC`@Eh@EbAGBANANCh@A|@ETE`ACH?JAp@AZ@h@@R@^DN@RBNBB?z@N\\\\H\\\\HhAVxBf@j@N@?d@JVFhB`@f@FTBn@Fd@@\\\\@lA?v@EjAKjAQbAYTG`A]fAg@xEiBbAWPGXE@?j@ITAHCJ?h@Cl@Av@AL?H?jEEJ?fAAD?P?n@AnCCfAAjBAVAJ?jBA|GG^Ah@A^CJAFAz@KLCbAQb@Kd@Q'},\n",
       "    'start_location': {'lat': 40.8658867, 'lng': -73.83174020000001},\n",
       "    'travel_mode': 'DRIVING'},\n",
       "   {'distance': {'text': '0.6 mi', 'value': 1039},\n",
       "    'duration': {'text': '1 min', 'value': 46},\n",
       "    'end_location': {'lat': 40.8304426, 'lng': -73.8327629},\n",
       "    'html_instructions': 'Keep <b>right</b> at the fork to stay on <b>I-95 S</b>, follow signs for <b>Triboro Bridge</b>/<wbr/><b>Geo Washington Bridge</b>',\n",
       "    'maneuver': 'fork-right',\n",
       "    'polyline': {'points': 'u~fxFb_raM^Ct@SVERCRCVAB?D?J?P?B?RBV@RBTDTDRFRHJDHBFDJDDBDBDB@@PJDDJHPNPPPPLPHJHHDHFHLRDJFJFPBDXr@z@xBj@xARh@JRHTDNBDHRDLNZDHFLP\\\\Tb@Zj@Zl@hCzEf@~@rAdCVd@Tb@f@`An@lA'},\n",
       "    'start_location': {'lat': 40.8370699, 'lng': -73.8252993},\n",
       "    'travel_mode': 'DRIVING'},\n",
       "   {'distance': {'text': '0.2 mi', 'value': 245},\n",
       "    'duration': {'text': '1 min', 'value': 12},\n",
       "    'end_location': {'lat': 40.8300645, 'lng': -73.83557619999999},\n",
       "    'html_instructions': 'Keep <b>right</b> at the fork to stay on <b>I-95 S</b>, follow signs for <b>Cross Bronx Expy</b>/<wbr/><b>Geo Washington Bridge</b>/<wbr/><b>S Interstate 678</b>/<wbr/><b>Whitestone Bridge</b>',\n",
       "    'maneuver': 'fork-right',\n",
       "    'polyline': {'points': 'guexFvmsaMB\\\\JXBHHRFXHZDVDXDTD`@?LBP@X@\\\\@X?^AX?\\\\A\\\\?VA|@'},\n",
       "    'start_location': {'lat': 40.8304426, 'lng': -73.8327629},\n",
       "    'travel_mode': 'DRIVING'},\n",
       "   {'distance': {'text': '3.0 mi', 'value': 4848},\n",
       "    'duration': {'text': '4 mins', 'value': 240},\n",
       "    'end_location': {'lat': 40.7910386, 'lng': -73.8234698},\n",
       "    'html_instructions': 'Take exit <b>6A</b> to merge onto <b>I-678 S</b><div style=\"font-size:0.9em\">Toll road</div>',\n",
       "    'maneuver': 'ramp-right',\n",
       "    'polyline': {'points': '{rexFj_taMKLA@?DC\\\\C^?BAZCb@?\\\\?B?`@?H@V@V?JBb@Dj@Fj@BR@LBJ@FJVDFBBHFHFDBDBJBLBL@LAJALEJGDEDCDEDEFK@ADIFMDO?AJ]FUBM@??A@EFKFIBE@AHGJGJGLGFARGHCTEf@ILC@?BEHGh@Kt@MD?zAURCVCbBMBA\\\\CdDWf@EdAIH?F?D@D@D@nAI\\\\C~@Ct@Ax@?^?B?^?nCAjBAtB@fADpABjADfDL|ENv@@r@@N@lDF^@`@BdCDjA?bA?bB?d@@\\\\?X?^AXAl@ETCJAPE`@G^IPCBAFCXITGn@UXMd@UZQHEVMXKfBcATOxAy@lAq@tGyDRKbBaAbAk@bAm@HE`@WxBqATOb@Wz@e@NIxCcBd@URK~AaAv@e@h@Yh@Yt@c@t@c@tAu@rBiA~A}@`B}@dAm@v@e@xBoADC^S`Ag@n@_@d@Wp@_@n@[bB}@LGTO^Q^Sz@e@PI^URKXOf@Y`@UDADCFCTOTM`DcBjBcALGLIPKBAJGj@YxBmAp@_@NGDC^OZM@Af@Kj@Mb@EZCTAZAn@APA'},\n",
       "    'start_location': {'lat': 40.8300645, 'lng': -73.83557619999999},\n",
       "    'travel_mode': 'DRIVING'},\n",
       "   {'distance': {'text': '2.0 mi', 'value': 3277},\n",
       "    'duration': {'text': '2 mins', 'value': 146},\n",
       "    'end_location': {'lat': 40.7653572, 'lng': -73.8396813},\n",
       "    'html_instructions': 'Keep <b>right</b> to stay on <b>I-678 S</b>',\n",
       "    'maneuver': 'keep-right',\n",
       "    'polyline': {'points': '__~wFtsqaMZ?v@AH?^?B?h@?\\\\@x@@N@fADT@N@`@DXD\\\\F\\\\@n@LxAXr@N`@Ht@NNBv@P@?HB@?b@H`@Hb@HPBRB`@FF@bAJ^DvBRn@FfCT`@BxANR@H@`@FXDb@HbARXF`@LjA\\\\PHtAh@z@^dFfCz@d@XPfHjDvAr@~C|A|@b@~@d@xAx@HF^Pj@`@ZTr@f@DBZVZVf@b@LJbAbA`@d@NLZ`@DD^f@JNPVFHDFn@~@RZ?@d@x@NVXj@b@~@N\\\\P\\\\\\\\r@DHb@~@@@DJz@bBl@lA\\\\n@d@v@h@z@\\\\h@DF^f@fAzABDf@j@X^`@b@@@BDPRFFXVd@d@t@n@DDBBXRb@\\\\fAv@@@LFr@b@JHTLB@f@X@@\\\\PxBhATN`Bz@'},\n",
       "    'start_location': {'lat': 40.7910386, 'lng': -73.8234698},\n",
       "    'travel_mode': 'DRIVING'},\n",
       "   {'distance': {'text': '1.4 mi', 'value': 2199},\n",
       "    'duration': {'text': '2 mins', 'value': 111},\n",
       "    'end_location': {'lat': 40.7465449, 'lng': -73.8356774},\n",
       "    'html_instructions': 'Keep <b>left</b> at the fork to stay on <b>I-678 S</b>, follow signs for <b>Interstate 678 S</b>/<wbr/><b>Van Wyck Expwy</b>/<wbr/><b>Kennedy Airport</b>',\n",
       "    'maneuver': 'fork-left',\n",
       "    'polyline': {'points': 'o~xwF~xtaM`@Dv@Xh@NF@\\\\FH@LBZBH@B?H?J?B?B?F?b@?R?PAJALAREVEJCTGJCRI@AJE`@OhAg@f@Ub@SNGNIZOLGJEJEJCLEFCNE`@INCB?PCPANCd@Ah@?Z@V@TDdAFb@BVBr@BJBP@V@R@R?V?XARARATCLA^EvAQNAJA`@E@A@?JANAHCRCv@Kv@KTCxASTC`@ITE^K^MXIj@UDALEHEVKx@e@x@c@~CmBnBmAd@YlCaBt@e@XSDC@AJGb@ULI|A{@BA^OZMHATGJCHCJCLA\\\\G\\\\CRCVANA^?V?@?H@Z@H?VDN@NBj@Ld@L`@LXJJDDB\\\\PPJRJHDJHLHb@\\\\'},\n",
       "    'start_location': {'lat': 40.7653572, 'lng': -73.8396813},\n",
       "    'travel_mode': 'DRIVING'},\n",
       "   {'distance': {'text': '0.5 mi', 'value': 793},\n",
       "    'duration': {'text': '1 min', 'value': 74},\n",
       "    'end_location': {'lat': 40.7416095, 'lng': -73.8423021},\n",
       "    'html_instructions': 'Take exit <b>12B</b> for <b>I-495 W</b>/<wbr/><b>Long Is Expwy</b> toward <b>Midtown Tun</b>',\n",
       "    'maneuver': 'ramp-right',\n",
       "    'polyline': {'points': '{huwF~_taMRb@DF^ZDDTRFDXV@B`@^PLFFB@RPFHLJNLHHn@l@PPf@b@RRHFZZDDVTZXZ^@?X\\\\FFj@bAh@`ALT@BR`@Rb@BDBDDFBDJLDL@?@Db@bAJZd@nAFLP\\\\d@lATh@Pd@f@rA`@f@'},\n",
       "    'start_location': {'lat': 40.7465449, 'lng': -73.8356774},\n",
       "    'travel_mode': 'DRIVING'},\n",
       "   {'distance': {'text': '3.5 mi', 'value': 5563},\n",
       "    'duration': {'text': '5 mins', 'value': 281},\n",
       "    'end_location': {'lat': 40.7262209, 'lng': -73.9034534},\n",
       "    'html_instructions': 'Merge onto <b>I-495 W</b>',\n",
       "    'maneuver': 'merge',\n",
       "    'polyline': {'points': 'ajtwFjiuaMvAlD?@z@xBd@nAL`@pAdDj@xABFBHv@vBv@rBr@hBFT@?@DDLb@fA`AtCr@`CXbAfAhEPt@\\\\`BDVBFHd@@F?@Lv@BLRrARfBTfBNpBJbABZD\\\\Hx@Hh@VdBH`@Hd@j@xCfAvFVhA?B@@@Ft@tDf@bCd@xB\\\\~Az@dEBNDRt@rDJj@FV^jBFXDX`@hBZ`BXlALj@R|@bAhEXnABJ@DHZ?@@BDP?@@DJ^?@H`@@?DRPt@?BFVJ^j@hCTnAf@|B?@Nv@VnAtAzG|@pEb@rBn@~C^hBVlAPr@Pr@ZjAh@dB?@h@`Br@bCRt@Rt@Jh@BJJj@@HHh@DTD^Hv@BZ@XDt@FlABn@?@@p@L|CPjF@RBj@@JDv@Fv@D`@BRBTHd@Lz@F\\\\@FFVRx@J`@DTFRDRHTDPJT`@hAb@|@r@zA`@v@p@pAT`@Tb@P`@P^Rl@Vr@Nf@Nd@Lb@H^H^Lj@Hd@Hl@Fd@Dd@D`@Df@Dl@Bz@Bt@@x@?t@Ap@Aj@Cr@Cf@Cj@e@xKA^IzAUjFOxDARO`DGtAK|B]lG'},\n",
       "    'start_location': {'lat': 40.7416095, 'lng': -73.8423021},\n",
       "    'travel_mode': 'DRIVING'},\n",
       "   {'distance': {'text': '3.4 mi', 'value': 5544},\n",
       "    'duration': {'text': '6 mins', 'value': 389},\n",
       "    'end_location': {'lat': 40.7134256, 'lng': -73.95403519999999},\n",
       "    'html_instructions': 'Take exit <b>17W</b> to merge onto <b>I-278 W</b> toward <b>Brooklyn</b>',\n",
       "    'maneuver': 'ramp-right',\n",
       "    'polyline': {'points': '{iqwFpgabMQv@E^CLAFG\\\\AFCTGT?BABCPEPAHIVGZIXENCHIVGVCHGNIV?@KVENCFKVCFGPKTITKTQ`@S`@g@`A_@j@ABKPMTKVMVMVc@fAQ^m@vAS`@Q^?Bk@tAWx@IPKVMVIVKT?BIRGRABIVIXIXIZGXEVGVGZGZEVEXi@hDIj@Il@Kj@Ih@?BEVERADE\\\\CHKj@Kj@WvAShAOz@Mj@Kj@Kl@WvAOz@EVADETGT?BIXGZIXIXIXIVIXKVITIRENINCDCFGJEFGHEFGFe@VQJOLA?OLMJCBSLEDKHSLc@ZYR_@XWPEBUPONC@ONMROTEHEJKVABGPCJELE^AJCTCXA^?L?@?N@X?B?TBX@JD\\\\@BBTFTDRJZLXBF@DBFR^JRLPFHNV^`@h@f@\\\\XVRNHDDRLPJRLDBPHh@ZJFHDNHLFHBH@XP^THDb@V|A`A~@j@~@j@h@Zt@Zz@h@bAt@dA`AbAhAbAjA~@hABBz@dARVZ`@X\\\\V\\\\tA~A~@lAPXZd@NZXf@Th@Zt@N`@Xz@b@jB`@rBn@lDNx@Hf@Jh@FZXbBDXFZHb@DVj@jDF\\\\ZvAXpA@BZbAj@vAx@hBd@dA?@d@|@`@|@d@|@bBdC@Bn@bA?@^j@FJTb@NZVf@Vj@t@zArApCd@|@Rb@b@z@^r@xAnCj@jAzArCHNDHxAxCDFT`@Zl@RZJRLRf@|@Zf@`B|CNVLVDD|@zAXb@^l@l@|@l@|@LPVZBF^d@X^BDTZBBHJf@n@HJNPbAjAn@t@HJDFRTZ^n@z@'},\n",
       "    'start_location': {'lat': 40.7262209, 'lng': -73.9034534},\n",
       "    'travel_mode': 'DRIVING'},\n",
       "   {'distance': {'text': '0.5 mi', 'value': 801},\n",
       "    'duration': {'text': '1 min', 'value': 40},\n",
       "    'end_location': {'lat': 40.7104182, 'lng': -73.9613383},\n",
       "    'html_instructions': 'Take exit <b>32A</b> on the <b>left</b> toward <b>Williamsburg Bridge</b>',\n",
       "    'maneuver': 'ramp-left',\n",
       "    'polyline': {'points': '}ynwFvckbMP@B@B@NLLJLJDDDB@BNJJHDBNJ@?FDHFNHBB@?PLLF@BPHB@FDDBTLVNJFf@ZXJHFTNVTRPFHVZRXFJ@BLTHPHRFNFRFTFRDRDPDRBRBPBRBT@T@VH|AF|AR|DF|A?J?L?N?N?PAL?DADALCNAH?FCLOr@Wv@'},\n",
       "    'start_location': {'lat': 40.7134256, 'lng': -73.95403519999999},\n",
       "    'travel_mode': 'DRIVING'},\n",
       "   {'distance': {'text': '0.2 mi', 'value': 285},\n",
       "    'duration': {'text': '1 min', 'value': 18},\n",
       "    'end_location': {'lat': 40.7113807, 'lng': -73.9644681},\n",
       "    'html_instructions': 'Continue onto <b>Williamsburg Bridge</b>',\n",
       "    'polyline': {'points': 'cgnwFjqlbMMj@Kh@Qv@Mh@?@_CfLEN'},\n",
       "    'start_location': {'lat': 40.7104182, 'lng': -73.9613383},\n",
       "    'travel_mode': 'DRIVING'},\n",
       "   {'distance': {'text': '1.2 mi', 'value': 1929},\n",
       "    'duration': {'text': '4 mins', 'value': 220},\n",
       "    'end_location': {'lat': 40.7178113, 'lng': -73.9857159},\n",
       "    'html_instructions': 'Slight <b>left</b> to stay on <b>Williamsburg Bridge</b>',\n",
       "    'maneuver': 'turn-slight-left',\n",
       "    'polyline': {'points': 'cmnwF|dmbM?X?FCHk@tCe@|BI`@Ib@eAbFIj@CLCJCLK`@Q|@Mj@ADMj@Mj@Kj@A@Kh@Mj@Mj@AFIb@Mj@CJI^CLG\\\\ENGZEPGXMj@YvAMj@Kj@Mj@Mj@I^CJI`@AHKb@AFMj@Kf@ABKj@Mj@Mj@Kj@Mj@CJKj@Mj@CLMj@ETGZ?BCLI\\\\GVERI`@CHKj@w@xDI^CHK^Mj@Oh@Mn@[vA{EnUa@rBEP]|AKj@Mj@Mh@WnAAHMj@Kj@'},\n",
       "    'start_location': {'lat': 40.7113807, 'lng': -73.9644681},\n",
       "    'travel_mode': 'DRIVING'},\n",
       "   {'distance': {'text': '0.5 mi', 'value': 756},\n",
       "    'duration': {'text': '4 mins', 'value': 236},\n",
       "    'end_location': {'lat': 40.7203759, 'lng': -73.9940156},\n",
       "    'html_instructions': 'Continue onto <b>Delancey St</b>',\n",
       "    'polyline': {'points': 'iuowFviqbMI\\\\Sj@U|@IZERo@tCe@|BG\\\\G\\\\g@bCGTOt@WjAUdAAFENGXIZCNA@ERWnAI`@EVCLYxAMl@Ot@Mh@Kj@GTCNSbA[tA?FIh@'},\n",
       "    'start_location': {'lat': 40.7178113, 'lng': -73.9857159},\n",
       "    'travel_mode': 'DRIVING'},\n",
       "   {'distance': {'text': '0.3 mi', 'value': 427},\n",
       "    'duration': {'text': '2 mins', 'value': 96},\n",
       "    'end_location': {'lat': 40.7240419, 'lng': -73.99254309999999},\n",
       "    'html_instructions': 'Turn <b>right</b> onto <b>Bowery</b>',\n",
       "    'maneuver': 'turn-right',\n",
       "    'polyline': {'points': 'kepwFr}rbMi@Qc@KGGAACAIIIEQEqAa@a@Mc@McAWWIKCCAMC}@WQEKCa@MiBg@a@M}@W'},\n",
       "    'start_location': {'lat': 40.7203759, 'lng': -73.9940156},\n",
       "    'travel_mode': 'DRIVING'},\n",
       "   {'distance': {'text': '0.4 mi', 'value': 714},\n",
       "    'duration': {'text': '3 mins', 'value': 169},\n",
       "    'end_location': {'lat': 40.72699859999999, 'lng': -73.9998762},\n",
       "    'html_instructions': 'Turn <b>left</b> onto <b>E Houston St</b>',\n",
       "    'maneuver': 'turn-left',\n",
       "    'polyline': {'points': 'g|pwFjtrbM[CIXMd@c@dBEPCLi@pBENCLg@rBELCLM`@AHADCLCNALABAJKj@CPEVM~@Kt@EPCTER?BADCFCHCHABELM\\\\Wn@IPENa@`AWp@GNGN[z@e@jAYr@]z@MZIR'},\n",
       "    'start_location': {'lat': 40.7240419, 'lng': -73.99254309999999},\n",
       "    'travel_mode': 'DRIVING'},\n",
       "   {'distance': {'text': '305 ft', 'value': 93},\n",
       "    'duration': {'text': '1 min', 'value': 27},\n",
       "    'end_location': {'lat': 40.7277026, 'lng': -73.9992836},\n",
       "    'html_instructions': 'Turn <b>right</b> onto <b>LaGuardia Pl</b><div style=\"font-size:0.9em\">Destination will be on the left</div>',\n",
       "    'maneuver': 'turn-right',\n",
       "    'polyline': {'points': 'wnqwFfbtbMmB}A]Y'},\n",
       "    'start_location': {'lat': 40.72699859999999, 'lng': -73.9998762},\n",
       "    'travel_mode': 'DRIVING'}],\n",
       "  'traffic_speed_entry': [],\n",
       "  'via_waypoint': []}]"
      ]
     },
     "execution_count": 6,
     "metadata": {},
     "output_type": "execute_result"
    }
   ],
   "source": [
    "legs = directions_result[0]['legs']\n",
    "print(legs[0].keys())\n",
    "legs"
   ]
  },
  {
   "cell_type": "code",
   "execution_count": 7,
   "metadata": {},
   "outputs": [
    {
     "data": {
      "text/plain": [
       "{'text': '45 mins', 'value': 2719}"
      ]
     },
     "execution_count": 7,
     "metadata": {},
     "output_type": "execute_result"
    }
   ],
   "source": [
    "legs[0]['duration']"
   ]
  },
  {
   "cell_type": "code",
   "execution_count": 8,
   "metadata": {},
   "outputs": [
    {
     "data": {
      "text/plain": [
       "[{'distance': {'text': '210 ft', 'value': 64},\n",
       "  'duration': {'text': '1 min', 'value': 23},\n",
       "  'end_location': {'lat': 40.87422850000001, 'lng': -73.8257921},\n",
       "  'html_instructions': 'Head <b>northwest</b> toward <b>Benchley Pl</b>',\n",
       "  'polyline': {'points': 'qhnxFlaraMA?A@A?A@A@A@?@A??@A@?@?@?@?@A??@?@?@?@@??@?@?@?@@??@?@@??@@??@@@@??@@?@@@?@?@?@?@?j@['},\n",
       "  'start_location': {'lat': 40.87448810000001, 'lng': -73.82567019999999},\n",
       "  'travel_mode': 'DRIVING'},\n",
       " {'distance': {'text': '187 ft', 'value': 57},\n",
       "  'duration': {'text': '1 min', 'value': 56},\n",
       "  'end_location': {'lat': 40.873769, 'lng': -73.82609219999999},\n",
       "  'html_instructions': 'Turn <b>right</b> onto <b>Benchley Pl</b>',\n",
       "  'maneuver': 'turn-right',\n",
       "  'polyline': {'points': '}fnxFdbraMLJLDJFNJXNHD'},\n",
       "  'start_location': {'lat': 40.87422850000001, 'lng': -73.8257921},\n",
       "  'travel_mode': 'DRIVING'},\n",
       " {'distance': {'text': '463 ft', 'value': 141},\n",
       "  'duration': {'text': '1 min', 'value': 49},\n",
       "  'end_location': {'lat': 40.87368499999999, 'lng': -73.8244583},\n",
       "  'html_instructions': 'Turn <b>left</b> onto <b>Bellamy Loop</b>',\n",
       "  'maneuver': 'turn-left',\n",
       "  'polyline': {'points': 'adnxF`draMLa@DUDUBU@YAU?AE{AEsA'},\n",
       "  'start_location': {'lat': 40.873769, 'lng': -73.82609219999999},\n",
       "  'travel_mode': 'DRIVING'},\n",
       " {'distance': {'text': '0.3 mi', 'value': 497},\n",
       "  'duration': {'text': '2 mins', 'value': 107},\n",
       "  'end_location': {'lat': 40.8695863, 'lng': -73.826263},\n",
       "  'html_instructions': 'Turn <b>right</b> onto <b>Co Op City Blvd</b>',\n",
       "  'maneuver': 'turn-right',\n",
       "  'polyline': {'points': 'ocnxFzyqaMRCVCTAX?L?N?T?R@J?L@J@F@L@`@FVFv@PLDB?RHRHRJPJFDFDHFLF\\\\Z`@^JJVXJNNTLN@@FHTTPLB@NHLFNDLDB@LBN@J@NBX@'},\n",
       "  'start_location': {'lat': 40.87368499999999, 'lng': -73.8244583},\n",
       "  'travel_mode': 'DRIVING'},\n",
       " {'distance': {'text': '0.4 mi', 'value': 606},\n",
       "  'duration': {'text': '3 mins', 'value': 155},\n",
       "  'end_location': {'lat': 40.8683955, 'lng': -73.8331997},\n",
       "  'html_instructions': 'Turn <b>right</b> onto <b>Bartow Ave</b>',\n",
       "  'maneuver': 'turn-right',\n",
       "  'polyline': {'points': '}imxFberaMA`@?BAZA\\\\?ZAN?L?V?b@?Z?Z?@@N?H?Z@Z@\\\\Bf@Bd@@^BR@R@TBP?FBZFh@?D@JBNDRFb@@JDTDVDVDXXbBHf@XdBHXFZZvADR?DLd@?DNh@Nh@'},\n",
       "  'start_location': {'lat': 40.8695863, 'lng': -73.826263},\n",
       "  'travel_mode': 'DRIVING'},\n",
       " {'distance': {'text': '0.2 mi', 'value': 305},\n",
       "  'duration': {'text': '1 min', 'value': 60},\n",
       "  'end_location': {'lat': 40.8658867, 'lng': -73.83174020000001},\n",
       "  'html_instructions': 'Turn <b>left</b> onto <b>Edson Ave</b>',\n",
       "  'maneuver': 'turn-left',\n",
       "  'polyline': {'points': 'obmxFnpsaMVIXQFC^Sf@SBA~Aw@^Sz@a@DCfAk@dB{@'},\n",
       "  'start_location': {'lat': 40.8683955, 'lng': -73.8331997},\n",
       "  'travel_mode': 'DRIVING'},\n",
       " {'distance': {'text': '2.1 mi', 'value': 3347},\n",
       "  'duration': {'text': '3 mins', 'value': 164},\n",
       "  'end_location': {'lat': 40.8370699, 'lng': -73.8252993},\n",
       "  'html_instructions': 'Merge onto <b>I-95 S</b>/<wbr/><b>New England Thruway</b> via the ramp on the <b>left</b> to <b>Geo Washington Bridge</b><div style=\"font-size:0.9em\">Continue to follow I-95 S</div>',\n",
       "  'maneuver': 'ramp-left',\n",
       "  'polyline': {'points': 'yrlxFjgsaMLSPQXW@?HKNIFEBCFEHERMx@c@BAd@QrDsAHG@A@CBKxCaAn@SBCVMHCTMHEFC^UVQNKjAy@bBmBDE`@e@^g@^c@^YJKJG@AXQXOXKf@MZE\\\\IJCNCt@Ur@SXKZMREZGf@Kf@I@A^G\\\\E@?t@IFAf@E|@G@?@?XC`@Eh@EbAGBANANCh@A|@ETE`ACH?JAp@AZ@h@@R@^DN@RBNBB?z@N\\\\H\\\\HhAVxBf@j@N@?d@JVFhB`@f@FTBn@Fd@@\\\\@lA?v@EjAKjAQbAYTG`A]fAg@xEiBbAWPGXE@?j@ITAHCJ?h@Cl@Av@AL?H?jEEJ?fAAD?P?n@AnCCfAAjBAVAJ?jBA|GG^Ah@A^CJAFAz@KLCbAQb@Kd@Q'},\n",
       "  'start_location': {'lat': 40.8658867, 'lng': -73.83174020000001},\n",
       "  'travel_mode': 'DRIVING'},\n",
       " {'distance': {'text': '0.6 mi', 'value': 1039},\n",
       "  'duration': {'text': '1 min', 'value': 46},\n",
       "  'end_location': {'lat': 40.8304426, 'lng': -73.8327629},\n",
       "  'html_instructions': 'Keep <b>right</b> at the fork to stay on <b>I-95 S</b>, follow signs for <b>Triboro Bridge</b>/<wbr/><b>Geo Washington Bridge</b>',\n",
       "  'maneuver': 'fork-right',\n",
       "  'polyline': {'points': 'u~fxFb_raM^Ct@SVERCRCVAB?D?J?P?B?RBV@RBTDTDRFRHJDHBFDJDDBDBDB@@PJDDJHPNPPPPLPHJHHDHFHLRDJFJFPBDXr@z@xBj@xARh@JRHTDNBDHRDLNZDHFLP\\\\Tb@Zj@Zl@hCzEf@~@rAdCVd@Tb@f@`An@lA'},\n",
       "  'start_location': {'lat': 40.8370699, 'lng': -73.8252993},\n",
       "  'travel_mode': 'DRIVING'},\n",
       " {'distance': {'text': '0.2 mi', 'value': 245},\n",
       "  'duration': {'text': '1 min', 'value': 12},\n",
       "  'end_location': {'lat': 40.8300645, 'lng': -73.83557619999999},\n",
       "  'html_instructions': 'Keep <b>right</b> at the fork to stay on <b>I-95 S</b>, follow signs for <b>Cross Bronx Expy</b>/<wbr/><b>Geo Washington Bridge</b>/<wbr/><b>S Interstate 678</b>/<wbr/><b>Whitestone Bridge</b>',\n",
       "  'maneuver': 'fork-right',\n",
       "  'polyline': {'points': 'guexFvmsaMB\\\\JXBHHRFXHZDVDXDTD`@?LBP@X@\\\\@X?^AX?\\\\A\\\\?VA|@'},\n",
       "  'start_location': {'lat': 40.8304426, 'lng': -73.8327629},\n",
       "  'travel_mode': 'DRIVING'},\n",
       " {'distance': {'text': '3.0 mi', 'value': 4848},\n",
       "  'duration': {'text': '4 mins', 'value': 240},\n",
       "  'end_location': {'lat': 40.7910386, 'lng': -73.8234698},\n",
       "  'html_instructions': 'Take exit <b>6A</b> to merge onto <b>I-678 S</b><div style=\"font-size:0.9em\">Toll road</div>',\n",
       "  'maneuver': 'ramp-right',\n",
       "  'polyline': {'points': '{rexFj_taMKLA@?DC\\\\C^?BAZCb@?\\\\?B?`@?H@V@V?JBb@Dj@Fj@BR@LBJ@FJVDFBBHFHFDBDBJBLBL@LAJALEJGDEDCDEDEFK@ADIFMDO?AJ]FUBM@??A@EFKFIBE@AHGJGJGLGFARGHCTEf@ILC@?BEHGh@Kt@MD?zAURCVCbBMBA\\\\CdDWf@EdAIH?F?D@D@D@nAI\\\\C~@Ct@Ax@?^?B?^?nCAjBAtB@fADpABjADfDL|ENv@@r@@N@lDF^@`@BdCDjA?bA?bB?d@@\\\\?X?^AXAl@ETCJAPE`@G^IPCBAFCXITGn@UXMd@UZQHEVMXKfBcATOxAy@lAq@tGyDRKbBaAbAk@bAm@HE`@WxBqATOb@Wz@e@NIxCcBd@URK~AaAv@e@h@Yh@Yt@c@t@c@tAu@rBiA~A}@`B}@dAm@v@e@xBoADC^S`Ag@n@_@d@Wp@_@n@[bB}@LGTO^Q^Sz@e@PI^URKXOf@Y`@UDADCFCTOTM`DcBjBcALGLIPKBAJGj@YxBmAp@_@NGDC^OZM@Af@Kj@Mb@EZCTAZAn@APA'},\n",
       "  'start_location': {'lat': 40.8300645, 'lng': -73.83557619999999},\n",
       "  'travel_mode': 'DRIVING'},\n",
       " {'distance': {'text': '2.0 mi', 'value': 3277},\n",
       "  'duration': {'text': '2 mins', 'value': 146},\n",
       "  'end_location': {'lat': 40.7653572, 'lng': -73.8396813},\n",
       "  'html_instructions': 'Keep <b>right</b> to stay on <b>I-678 S</b>',\n",
       "  'maneuver': 'keep-right',\n",
       "  'polyline': {'points': '__~wFtsqaMZ?v@AH?^?B?h@?\\\\@x@@N@fADT@N@`@DXD\\\\F\\\\@n@LxAXr@N`@Ht@NNBv@P@?HB@?b@H`@Hb@HPBRB`@FF@bAJ^DvBRn@FfCT`@BxANR@H@`@FXDb@HbARXF`@LjA\\\\PHtAh@z@^dFfCz@d@XPfHjDvAr@~C|A|@b@~@d@xAx@HF^Pj@`@ZTr@f@DBZVZVf@b@LJbAbA`@d@NLZ`@DD^f@JNPVFHDFn@~@RZ?@d@x@NVXj@b@~@N\\\\P\\\\\\\\r@DHb@~@@@DJz@bBl@lA\\\\n@d@v@h@z@\\\\h@DF^f@fAzABDf@j@X^`@b@@@BDPRFFXVd@d@t@n@DDBBXRb@\\\\fAv@@@LFr@b@JHTLB@f@X@@\\\\PxBhATN`Bz@'},\n",
       "  'start_location': {'lat': 40.7910386, 'lng': -73.8234698},\n",
       "  'travel_mode': 'DRIVING'},\n",
       " {'distance': {'text': '1.4 mi', 'value': 2199},\n",
       "  'duration': {'text': '2 mins', 'value': 111},\n",
       "  'end_location': {'lat': 40.7465449, 'lng': -73.8356774},\n",
       "  'html_instructions': 'Keep <b>left</b> at the fork to stay on <b>I-678 S</b>, follow signs for <b>Interstate 678 S</b>/<wbr/><b>Van Wyck Expwy</b>/<wbr/><b>Kennedy Airport</b>',\n",
       "  'maneuver': 'fork-left',\n",
       "  'polyline': {'points': 'o~xwF~xtaM`@Dv@Xh@NF@\\\\FH@LBZBH@B?H?J?B?B?F?b@?R?PAJALAREVEJCTGJCRI@AJE`@OhAg@f@Ub@SNGNIZOLGJEJEJCLEFCNE`@INCB?PCPANCd@Ah@?Z@V@TDdAFb@BVBr@BJBP@V@R@R?V?XARARATCLA^EvAQNAJA`@E@A@?JANAHCRCv@Kv@KTCxASTC`@ITE^K^MXIj@UDALEHEVKx@e@x@c@~CmBnBmAd@YlCaBt@e@XSDC@AJGb@ULI|A{@BA^OZMHATGJCHCJCLA\\\\G\\\\CRCVANA^?V?@?H@Z@H?VDN@NBj@Ld@L`@LXJJDDB\\\\PPJRJHDJHLHb@\\\\'},\n",
       "  'start_location': {'lat': 40.7653572, 'lng': -73.8396813},\n",
       "  'travel_mode': 'DRIVING'},\n",
       " {'distance': {'text': '0.5 mi', 'value': 793},\n",
       "  'duration': {'text': '1 min', 'value': 74},\n",
       "  'end_location': {'lat': 40.7416095, 'lng': -73.8423021},\n",
       "  'html_instructions': 'Take exit <b>12B</b> for <b>I-495 W</b>/<wbr/><b>Long Is Expwy</b> toward <b>Midtown Tun</b>',\n",
       "  'maneuver': 'ramp-right',\n",
       "  'polyline': {'points': '{huwF~_taMRb@DF^ZDDTRFDXV@B`@^PLFFB@RPFHLJNLHHn@l@PPf@b@RRHFZZDDVTZXZ^@?X\\\\FFj@bAh@`ALT@BR`@Rb@BDBDDFBDJLDL@?@Db@bAJZd@nAFLP\\\\d@lATh@Pd@f@rA`@f@'},\n",
       "  'start_location': {'lat': 40.7465449, 'lng': -73.8356774},\n",
       "  'travel_mode': 'DRIVING'},\n",
       " {'distance': {'text': '3.5 mi', 'value': 5563},\n",
       "  'duration': {'text': '5 mins', 'value': 281},\n",
       "  'end_location': {'lat': 40.7262209, 'lng': -73.9034534},\n",
       "  'html_instructions': 'Merge onto <b>I-495 W</b>',\n",
       "  'maneuver': 'merge',\n",
       "  'polyline': {'points': 'ajtwFjiuaMvAlD?@z@xBd@nAL`@pAdDj@xABFBHv@vBv@rBr@hBFT@?@DDLb@fA`AtCr@`CXbAfAhEPt@\\\\`BDVBFHd@@F?@Lv@BLRrARfBTfBNpBJbABZD\\\\Hx@Hh@VdBH`@Hd@j@xCfAvFVhA?B@@@Ft@tDf@bCd@xB\\\\~Az@dEBNDRt@rDJj@FV^jBFXDX`@hBZ`BXlALj@R|@bAhEXnABJ@DHZ?@@BDP?@@DJ^?@H`@@?DRPt@?BFVJ^j@hCTnAf@|B?@Nv@VnAtAzG|@pEb@rBn@~C^hBVlAPr@Pr@ZjAh@dB?@h@`Br@bCRt@Rt@Jh@BJJj@@HHh@DTD^Hv@BZ@XDt@FlABn@?@@p@L|CPjF@RBj@@JDv@Fv@D`@BRBTHd@Lz@F\\\\@FFVRx@J`@DTFRDRHTDPJT`@hAb@|@r@zA`@v@p@pAT`@Tb@P`@P^Rl@Vr@Nf@Nd@Lb@H^H^Lj@Hd@Hl@Fd@Dd@D`@Df@Dl@Bz@Bt@@x@?t@Ap@Aj@Cr@Cf@Cj@e@xKA^IzAUjFOxDARO`DGtAK|B]lG'},\n",
       "  'start_location': {'lat': 40.7416095, 'lng': -73.8423021},\n",
       "  'travel_mode': 'DRIVING'},\n",
       " {'distance': {'text': '3.4 mi', 'value': 5544},\n",
       "  'duration': {'text': '6 mins', 'value': 389},\n",
       "  'end_location': {'lat': 40.7134256, 'lng': -73.95403519999999},\n",
       "  'html_instructions': 'Take exit <b>17W</b> to merge onto <b>I-278 W</b> toward <b>Brooklyn</b>',\n",
       "  'maneuver': 'ramp-right',\n",
       "  'polyline': {'points': '{iqwFpgabMQv@E^CLAFG\\\\AFCTGT?BABCPEPAHIVGZIXENCHIVGVCHGNIV?@KVENCFKVCFGPKTITKTQ`@S`@g@`A_@j@ABKPMTKVMVMVc@fAQ^m@vAS`@Q^?Bk@tAWx@IPKVMVIVKT?BIRGRABIVIXIXIZGXEVGVGZGZEVEXi@hDIj@Il@Kj@Ih@?BEVERADE\\\\CHKj@Kj@WvAShAOz@Mj@Kj@Kl@WvAOz@EVADETGT?BIXGZIXIXIXIVIXKVITIRENINCDCFGJEFGHEFGFe@VQJOLA?OLMJCBSLEDKHSLc@ZYR_@XWPEBUPONC@ONMROTEHEJKVABGPCJELE^AJCTCXA^?L?@?N@X?B?TBX@JD\\\\@BBTFTDRJZLXBF@DBFR^JRLPFHNV^`@h@f@\\\\XVRNHDDRLPJRLDBPHh@ZJFHDNHLFHBH@XP^THDb@V|A`A~@j@~@j@h@Zt@Zz@h@bAt@dA`AbAhAbAjA~@hABBz@dARVZ`@X\\\\V\\\\tA~A~@lAPXZd@NZXf@Th@Zt@N`@Xz@b@jB`@rBn@lDNx@Hf@Jh@FZXbBDXFZHb@DVj@jDF\\\\ZvAXpA@BZbAj@vAx@hBd@dA?@d@|@`@|@d@|@bBdC@Bn@bA?@^j@FJTb@NZVf@Vj@t@zArApCd@|@Rb@b@z@^r@xAnCj@jAzArCHNDHxAxCDFT`@Zl@RZJRLRf@|@Zf@`B|CNVLVDD|@zAXb@^l@l@|@l@|@LPVZBF^d@X^BDTZBBHJf@n@HJNPbAjAn@t@HJDFRTZ^n@z@'},\n",
       "  'start_location': {'lat': 40.7262209, 'lng': -73.9034534},\n",
       "  'travel_mode': 'DRIVING'},\n",
       " {'distance': {'text': '0.5 mi', 'value': 801},\n",
       "  'duration': {'text': '1 min', 'value': 40},\n",
       "  'end_location': {'lat': 40.7104182, 'lng': -73.9613383},\n",
       "  'html_instructions': 'Take exit <b>32A</b> on the <b>left</b> toward <b>Williamsburg Bridge</b>',\n",
       "  'maneuver': 'ramp-left',\n",
       "  'polyline': {'points': '}ynwFvckbMP@B@B@NLLJLJDDDB@BNJJHDBNJ@?FDHFNHBB@?PLLF@BPHB@FDDBTLVNJFf@ZXJHFTNVTRPFHVZRXFJ@BLTHPHRFNFRFTFRDRDPDRBRBPBRBT@T@VH|AF|AR|DF|A?J?L?N?N?PAL?DADALCNAH?FCLOr@Wv@'},\n",
       "  'start_location': {'lat': 40.7134256, 'lng': -73.95403519999999},\n",
       "  'travel_mode': 'DRIVING'},\n",
       " {'distance': {'text': '0.2 mi', 'value': 285},\n",
       "  'duration': {'text': '1 min', 'value': 18},\n",
       "  'end_location': {'lat': 40.7113807, 'lng': -73.9644681},\n",
       "  'html_instructions': 'Continue onto <b>Williamsburg Bridge</b>',\n",
       "  'polyline': {'points': 'cgnwFjqlbMMj@Kh@Qv@Mh@?@_CfLEN'},\n",
       "  'start_location': {'lat': 40.7104182, 'lng': -73.9613383},\n",
       "  'travel_mode': 'DRIVING'},\n",
       " {'distance': {'text': '1.2 mi', 'value': 1929},\n",
       "  'duration': {'text': '4 mins', 'value': 220},\n",
       "  'end_location': {'lat': 40.7178113, 'lng': -73.9857159},\n",
       "  'html_instructions': 'Slight <b>left</b> to stay on <b>Williamsburg Bridge</b>',\n",
       "  'maneuver': 'turn-slight-left',\n",
       "  'polyline': {'points': 'cmnwF|dmbM?X?FCHk@tCe@|BI`@Ib@eAbFIj@CLCJCLK`@Q|@Mj@ADMj@Mj@Kj@A@Kh@Mj@Mj@AFIb@Mj@CJI^CLG\\\\ENGZEPGXMj@YvAMj@Kj@Mj@Mj@I^CJI`@AHKb@AFMj@Kf@ABKj@Mj@Mj@Kj@Mj@CJKj@Mj@CLMj@ETGZ?BCLI\\\\GVERI`@CHKj@w@xDI^CHK^Mj@Oh@Mn@[vA{EnUa@rBEP]|AKj@Mj@Mh@WnAAHMj@Kj@'},\n",
       "  'start_location': {'lat': 40.7113807, 'lng': -73.9644681},\n",
       "  'travel_mode': 'DRIVING'},\n",
       " {'distance': {'text': '0.5 mi', 'value': 756},\n",
       "  'duration': {'text': '4 mins', 'value': 236},\n",
       "  'end_location': {'lat': 40.7203759, 'lng': -73.9940156},\n",
       "  'html_instructions': 'Continue onto <b>Delancey St</b>',\n",
       "  'polyline': {'points': 'iuowFviqbMI\\\\Sj@U|@IZERo@tCe@|BG\\\\G\\\\g@bCGTOt@WjAUdAAFENGXIZCNA@ERWnAI`@EVCLYxAMl@Ot@Mh@Kj@GTCNSbA[tA?FIh@'},\n",
       "  'start_location': {'lat': 40.7178113, 'lng': -73.9857159},\n",
       "  'travel_mode': 'DRIVING'},\n",
       " {'distance': {'text': '0.3 mi', 'value': 427},\n",
       "  'duration': {'text': '2 mins', 'value': 96},\n",
       "  'end_location': {'lat': 40.7240419, 'lng': -73.99254309999999},\n",
       "  'html_instructions': 'Turn <b>right</b> onto <b>Bowery</b>',\n",
       "  'maneuver': 'turn-right',\n",
       "  'polyline': {'points': 'kepwFr}rbMi@Qc@KGGAACAIIIEQEqAa@a@Mc@McAWWIKCCAMC}@WQEKCa@MiBg@a@M}@W'},\n",
       "  'start_location': {'lat': 40.7203759, 'lng': -73.9940156},\n",
       "  'travel_mode': 'DRIVING'},\n",
       " {'distance': {'text': '0.4 mi', 'value': 714},\n",
       "  'duration': {'text': '3 mins', 'value': 169},\n",
       "  'end_location': {'lat': 40.72699859999999, 'lng': -73.9998762},\n",
       "  'html_instructions': 'Turn <b>left</b> onto <b>E Houston St</b>',\n",
       "  'maneuver': 'turn-left',\n",
       "  'polyline': {'points': 'g|pwFjtrbM[CIXMd@c@dBEPCLi@pBENCLg@rBELCLM`@AHADCLCNALABAJKj@CPEVM~@Kt@EPCTER?BADCFCHCHABELM\\\\Wn@IPENa@`AWp@GNGN[z@e@jAYr@]z@MZIR'},\n",
       "  'start_location': {'lat': 40.7240419, 'lng': -73.99254309999999},\n",
       "  'travel_mode': 'DRIVING'},\n",
       " {'distance': {'text': '305 ft', 'value': 93},\n",
       "  'duration': {'text': '1 min', 'value': 27},\n",
       "  'end_location': {'lat': 40.7277026, 'lng': -73.9992836},\n",
       "  'html_instructions': 'Turn <b>right</b> onto <b>LaGuardia Pl</b><div style=\"font-size:0.9em\">Destination will be on the left</div>',\n",
       "  'maneuver': 'turn-right',\n",
       "  'polyline': {'points': 'wnqwFfbtbMmB}A]Y'},\n",
       "  'start_location': {'lat': 40.72699859999999, 'lng': -73.9998762},\n",
       "  'travel_mode': 'DRIVING'}]"
      ]
     },
     "execution_count": 8,
     "metadata": {},
     "output_type": "execute_result"
    }
   ],
   "source": [
    "len(legs[0]['steps'])\n",
    "legs[0]['steps']"
   ]
  },
  {
   "cell_type": "code",
   "execution_count": null,
   "metadata": {
    "scrolled": true
   },
   "outputs": [],
   "source": []
  },
  {
   "cell_type": "code",
   "execution_count": 9,
   "metadata": {
    "scrolled": true
   },
   "outputs": [
    {
     "data": {
      "text/plain": [
       "['DRIVING',\n",
       " 'DRIVING',\n",
       " 'DRIVING',\n",
       " 'DRIVING',\n",
       " 'DRIVING',\n",
       " 'DRIVING',\n",
       " 'DRIVING',\n",
       " 'DRIVING',\n",
       " 'DRIVING',\n",
       " 'DRIVING',\n",
       " 'DRIVING',\n",
       " 'DRIVING',\n",
       " 'DRIVING',\n",
       " 'DRIVING',\n",
       " 'DRIVING',\n",
       " 'DRIVING',\n",
       " 'DRIVING',\n",
       " 'DRIVING',\n",
       " 'DRIVING',\n",
       " 'DRIVING',\n",
       " 'DRIVING',\n",
       " 'DRIVING']"
      ]
     },
     "execution_count": 9,
     "metadata": {},
     "output_type": "execute_result"
    }
   ],
   "source": [
    "[x['travel_mode'] for x in legs[0]['steps']]"
   ]
  },
  {
   "cell_type": "code",
   "execution_count": 10,
   "metadata": {
    "scrolled": true
   },
   "outputs": [
    {
     "name": "stdout",
     "output_type": "stream",
     "text": [
      "0\n"
     ]
    },
    {
     "data": {
      "text/plain": [
       "[]"
      ]
     },
     "execution_count": 10,
     "metadata": {},
     "output_type": "execute_result"
    }
   ],
   "source": [
    "transit_steps = [x for x in legs[0]['steps'] if x['travel_mode'] == 'TRANSIT']\n",
    "print(len(transit_steps))\n",
    "transit_steps"
   ]
  },
  {
   "cell_type": "code",
   "execution_count": 11,
   "metadata": {},
   "outputs": [
    {
     "ename": "IndexError",
     "evalue": "list index out of range",
     "output_type": "error",
     "traceback": [
      "\u001b[0;31m---------------------------------------------------------------------------\u001b[0m",
      "\u001b[0;31mIndexError\u001b[0m                                Traceback (most recent call last)",
      "\u001b[0;32m<ipython-input-11-c74030eb1d8e>\u001b[0m in \u001b[0;36m<module>\u001b[0;34m\u001b[0m\n\u001b[0;32m----> 1\u001b[0;31m \u001b[0mtransit_steps\u001b[0m\u001b[0;34m[\u001b[0m\u001b[0;36m0\u001b[0m\u001b[0;34m]\u001b[0m\u001b[0;34m.\u001b[0m\u001b[0mkeys\u001b[0m\u001b[0;34m(\u001b[0m\u001b[0;34m)\u001b[0m\u001b[0;34m\u001b[0m\u001b[0;34m\u001b[0m\u001b[0m\n\u001b[0m",
      "\u001b[0;31mIndexError\u001b[0m: list index out of range"
     ]
    }
   ],
   "source": [
    "transit_steps[0].keys()"
   ]
  },
  {
   "cell_type": "code",
   "execution_count": 71,
   "metadata": {},
   "outputs": [
    {
     "data": {
      "text/plain": [
       "'D'"
      ]
     },
     "execution_count": 71,
     "metadata": {},
     "output_type": "execute_result"
    }
   ],
   "source": [
    "transit_steps[1]['transit_details']['line']['short_name']"
   ]
  },
  {
   "cell_type": "code",
   "execution_count": 72,
   "metadata": {},
   "outputs": [
    {
     "data": {
      "text/plain": [
       "['Bx12', 'D']"
      ]
     },
     "execution_count": 72,
     "metadata": {},
     "output_type": "execute_result"
    }
   ],
   "source": [
    "[x['transit_details']['line']['short_name'] for x in transit_steps]"
   ]
  },
  {
   "cell_type": "code",
   "execution_count": 73,
   "metadata": {},
   "outputs": [
    {
     "data": {
      "text/plain": [
       "[{'text': '12:18am', 'time_zone': 'America/New_York', 'value': 1626236322},\n",
       " {'text': '1:11am', 'time_zone': 'America/New_York', 'value': 1626239490}]"
      ]
     },
     "execution_count": 73,
     "metadata": {},
     "output_type": "execute_result"
    }
   ],
   "source": [
    "[x['transit_details']['departure_time'] for x in transit_steps]"
   ]
  },
  {
   "cell_type": "code",
   "execution_count": 74,
   "metadata": {},
   "outputs": [
    {
     "data": {
      "text/plain": [
       "[{'text': '12:43am', 'time_zone': 'America/New_York', 'value': 1626237835},\n",
       " {'text': '1:47am', 'time_zone': 'America/New_York', 'value': 1626241674}]"
      ]
     },
     "execution_count": 74,
     "metadata": {},
     "output_type": "execute_result"
    }
   ],
   "source": [
    "[x['transit_details']['arrival_time'] for x in transit_steps]"
   ]
  },
  {
   "cell_type": "code",
   "execution_count": 75,
   "metadata": {},
   "outputs": [
    {
     "data": {
      "text/plain": [
       "[17, 14]"
      ]
     },
     "execution_count": 75,
     "metadata": {},
     "output_type": "execute_result"
    }
   ],
   "source": [
    "[x['transit_details']['num_stops'] for x in transit_steps]"
   ]
  },
  {
   "cell_type": "code",
   "execution_count": 76,
   "metadata": {},
   "outputs": [
    {
     "data": {
      "text/plain": [
       "[{'text': '25 mins', 'value': 1513}, {'text': '36 mins', 'value': 2184}]"
      ]
     },
     "execution_count": 76,
     "metadata": {},
     "output_type": "execute_result"
    }
   ],
   "source": [
    "[x['duration'] for x in transit_steps]"
   ]
  },
  {
   "cell_type": "code",
   "execution_count": null,
   "metadata": {},
   "outputs": [],
   "source": []
  },
  {
   "cell_type": "code",
   "execution_count": null,
   "metadata": {},
   "outputs": [],
   "source": [
    "# "
   ]
  }
 ],
 "metadata": {
  "kernelspec": {
   "display_name": "Python 3",
   "language": "python",
   "name": "python3"
  },
  "language_info": {
   "codemirror_mode": {
    "name": "ipython",
    "version": 3
   },
   "file_extension": ".py",
   "mimetype": "text/x-python",
   "name": "python",
   "nbconvert_exporter": "python",
   "pygments_lexer": "ipython3",
   "version": "3.6.9"
  },
  "toc": {
   "base_numbering": 1,
   "nav_menu": {},
   "number_sections": true,
   "sideBar": true,
   "skip_h1_title": false,
   "title_cell": "Table of Contents",
   "title_sidebar": "Contents",
   "toc_cell": false,
   "toc_position": {},
   "toc_section_display": true,
   "toc_window_display": false
  }
 },
 "nbformat": 4,
 "nbformat_minor": 4
}
