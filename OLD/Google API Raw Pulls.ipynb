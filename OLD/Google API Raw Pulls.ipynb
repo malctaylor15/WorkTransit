{
 "cells": [
  {
   "cell_type": "code",
   "execution_count": 7,
   "metadata": {},
   "outputs": [],
   "source": [
    "import requests\n",
    "import pickle\n",
    "import json\n",
    "import os\n",
    "import googlemaps\n",
    "from datetime import datetime\n",
    "import sqlite3\n",
    "import pandas as pd\n",
    "from ast import literal_eval\n"
   ]
  },
  {
   "cell_type": "code",
   "execution_count": 10,
   "metadata": {},
   "outputs": [],
   "source": [
    "class GetRawAPI():\n",
    "    \n",
    "    def __init__(self):\n",
    "        print(\"Let's get started\")\n",
    "        pass\n",
    "\n",
    "    @staticmethod \n",
    "    def create_param_sets():\n",
    "        now = datetime.now()\n",
    "        driving_parameters = {'origin' : \"120 Benchley Pl, Bronx NY\"\n",
    "                             , 'destination' : \"809 Washington Street\"\n",
    "                             , 'mode' : \"driving\"\n",
    "                             , 'departure_time' : now}\n",
    "\n",
    "        transit_parameters = {'origin' : \"120 Benchley Pl, Bronx NY\"\n",
    "                             , 'destination' : \"809 Washington Street\"\n",
    "                             , 'mode' : \"transit\"\n",
    "                             , 'departure_time' : now}\n",
    "        param_set_list = [driving_parameters, transit_parameters]\n",
    "        return(param_set_list)\n",
    "\n",
    "    @staticmethod\n",
    "    def get_gmap_directions(param_set_list, \n",
    "                            google_key_path = '/home/malcolm/credentials/google_transit_api.pkl'):\n",
    "        # Start google client \n",
    "        with open(google_key_path, 'rb') as hnd:\n",
    "            api_key = pickle.load(hnd)\n",
    "        gmaps = googlemaps.Client(key=api_key)\n",
    "\n",
    "        # Make API Calls \n",
    "        updated_params_list = []\n",
    "        for param_set in param_set_list:\n",
    "            param_set2 = param_set.copy()\n",
    "            temp_result = gmaps.directions(**param_set)\n",
    "\n",
    "            date = str(param_set2['departure_time'].date())\n",
    "            time = str(param_set2['departure_time'].strftime('%H:%M'))\n",
    "            param_set2.update({'Raw Response' : temp_result\n",
    "                              , 'Date' : date\n",
    "                              , 'Time' : time})\n",
    "            updated_params_list.append(param_set2)\n",
    "\n",
    "        # Fix up dataframe \n",
    "        updated_params_df = pd.DataFrame(updated_params_list)\n",
    "        updated_params_df['Raw Response'] = updated_params_df['Raw Response'].astype(str)\n",
    "        updated_params_df['departure_time'] = updated_params_df['departure_time'].astype(str)\n",
    "        return(updated_params_df)\n",
    "\n",
    "    @staticmethod\n",
    "    def update_db(updated_params_df,     \n",
    "                  db_path = '/home/malcolm/WorkTransit/data/',\n",
    "                  db_file_name = 'transit.db'):\n",
    "        # Ensure paths and files are ready \n",
    "        os.makedirs(db_path, exist_ok=True)\n",
    "        if db_path[-1] != '/':\n",
    "            db_path = db_path + '/'\n",
    "        db_loc = db_path + db_file_name\n",
    "        \n",
    "        # Create SQL Connection and append to db\n",
    "        con = sqlite3.connect(db_loc)\n",
    "        updated_params_df.to_sql('Raw_Responses', con, index=False, if_exists='append' )\n",
    "        \n",
    "        # Close connection\n",
    "        con.commit()\n",
    "        con.close()\n",
    "        print(f\"Added to {db_loc}\")\n",
    "    \n",
    "    def execute(self):\n",
    "        self.param_set_list = self.create_param_sets()\n",
    "        self.updated_params_df = self.get_gmap_directions(self.param_set_list)\n",
    "        self.update_db(self.updated_params_df)"
   ]
  },
  {
   "cell_type": "code",
   "execution_count": 11,
   "metadata": {},
   "outputs": [
    {
     "name": "stdout",
     "output_type": "stream",
     "text": [
      "Let's get started\n",
      "Added to /home/malcolm/WorkTransit/data/transit.db\n"
     ]
    },
    {
     "name": "stderr",
     "output_type": "stream",
     "text": [
      "/home/malcolm/main/lib/python3.6/site-packages/pandas/core/generic.py:2615: UserWarning: The spaces in these column names will not be changed. In pandas versions < 0.14, spaces were converted to underscores.\n",
      "  method=method,\n"
     ]
    }
   ],
   "source": [
    "db_updater = GetRawAPI()\n",
    "db_updater.execute()\n",
    "\n",
    "print(db_updater.updated_params_df)"
   ]
  }
 ],
 "metadata": {
  "kernelspec": {
   "display_name": "Python 3",
   "language": "python",
   "name": "python3"
  },
  "language_info": {
   "codemirror_mode": {
    "name": "ipython",
    "version": 3
   },
   "file_extension": ".py",
   "mimetype": "text/x-python",
   "name": "python",
   "nbconvert_exporter": "python",
   "pygments_lexer": "ipython3",
   "version": "3.6.9"
  },
  "toc": {
   "base_numbering": 1,
   "nav_menu": {},
   "number_sections": true,
   "sideBar": true,
   "skip_h1_title": false,
   "title_cell": "Table of Contents",
   "title_sidebar": "Contents",
   "toc_cell": false,
   "toc_position": {},
   "toc_section_display": true,
   "toc_window_display": false
  }
 },
 "nbformat": 4,
 "nbformat_minor": 4
}
