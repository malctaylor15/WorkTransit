{
 "cells": [
  {
   "cell_type": "code",
   "execution_count": 1,
   "metadata": {},
   "outputs": [],
   "source": [
    "import pandas as pd \n",
    "import sqlite3 \n",
    "import numpy as np \n",
    "import datetime\n",
    "import sys \n",
    "import os \n",
    "from ast import literal_eval\n",
    "%load_ext autoreload\n",
    "%autoreload 2"
   ]
  },
  {
   "cell_type": "code",
   "execution_count": 2,
   "metadata": {},
   "outputs": [],
   "source": [
    "sys.path.append('/home/malcolm/WorkTransit/scripts/WorkTransitLib/')"
   ]
  },
  {
   "cell_type": "code",
   "execution_count": 3,
   "metadata": {},
   "outputs": [],
   "source": [
    "import parseRawResponse as parser"
   ]
  },
  {
   "cell_type": "code",
   "execution_count": 4,
   "metadata": {},
   "outputs": [
    {
     "name": "stdout",
     "output_type": "stream",
     "text": [
      "Tables:  ['Raw_Responses', 'parsed_driving', 'parsed_transit']\n",
      "Latest date for parsed_transit is 2021-09-25 21:14\n",
      "Raw Response df has  0  rows\n",
      "parsed_transit  was updated with  0  rows\n"
     ]
    },
    {
     "name": "stderr",
     "output_type": "stream",
     "text": [
      "/home/malcolm/main/lib/python3.6/site-packages/pandas/core/generic.py:2615: UserWarning: The spaces in these column names will not be changed. In pandas versions < 0.14, spaces were converted to underscores.\n",
      "  method=method,\n"
     ]
    }
   ],
   "source": [
    "transit_parser = parser.RunParser('transit', 'parsed_transit')\n",
    "transit_parser.execute()"
   ]
  },
  {
   "cell_type": "code",
   "execution_count": 5,
   "metadata": {},
   "outputs": [
    {
     "name": "stdout",
     "output_type": "stream",
     "text": [
      "Tables:  ['Raw_Responses', 'parsed_driving', 'parsed_transit']\n",
      "Latest date for parsed_driving is 2021-09-25 22:32\n",
      "Raw Response df has  0  rows\n",
      "parsed_driving  was updated with  0  rows\n"
     ]
    }
   ],
   "source": [
    "driving_parser = parser.RunParser('driving', 'parsed_driving')\n",
    "driving_parser.execute()"
   ]
  },
  {
   "cell_type": "code",
   "execution_count": 6,
   "metadata": {},
   "outputs": [
    {
     "ename": "ValueError",
     "evalue": "",
     "output_type": "error",
     "traceback": [
      "\u001b[0;31m---------------------------------------------------------------------------\u001b[0m",
      "\u001b[0;31mValueError\u001b[0m                                Traceback (most recent call last)",
      "\u001b[0;32m<ipython-input-6-4954757c312d>\u001b[0m in \u001b[0;36m<module>\u001b[0;34m\u001b[0m\n\u001b[0;32m----> 1\u001b[0;31m \u001b[0;32mraise\u001b[0m \u001b[0mValueError\u001b[0m\u001b[0;34m(\u001b[0m\u001b[0;34m)\u001b[0m\u001b[0;34m\u001b[0m\u001b[0;34m\u001b[0m\u001b[0m\n\u001b[0m",
      "\u001b[0;31mValueError\u001b[0m: "
     ]
    }
   ],
   "source": [
    "raise ValueError()"
   ]
  },
  {
   "cell_type": "code",
   "execution_count": null,
   "metadata": {},
   "outputs": [],
   "source": []
  },
  {
   "cell_type": "markdown",
   "metadata": {},
   "source": [
    "## MANUAL run 0925"
   ]
  },
  {
   "cell_type": "code",
   "execution_count": 7,
   "metadata": {},
   "outputs": [
    {
     "name": "stdout",
     "output_type": "stream",
     "text": [
      "Raw Response df has  382  rows\n",
      "parsed_driving  was updated with  382  rows\n"
     ]
    }
   ],
   "source": [
    "driving_parser.raw_df = driving_parser.get_raw_responses_df(driving_parser.latest_date, '00:00')\n",
    "driving_parser.parsed_df = driving_parser.parse_raw_df(driving_parser.raw_df)\n",
    "driving_parser.full_df = driving_parser.merge(driving_parser.raw_df, driving_parser.parsed_df)\n",
    "driving_parser.update_table(driving_parser.full_df)\n"
   ]
  },
  {
   "cell_type": "code",
   "execution_count": 8,
   "metadata": {},
   "outputs": [
    {
     "name": "stdout",
     "output_type": "stream",
     "text": [
      "Raw Response df has  116  rows\n"
     ]
    },
    {
     "ename": "IndexError",
     "evalue": "list index out of range",
     "output_type": "error",
     "traceback": [
      "\u001b[0;31m---------------------------------------------------------------------------\u001b[0m",
      "\u001b[0;31mIndexError\u001b[0m                                Traceback (most recent call last)",
      "\u001b[0;32m<ipython-input-8-333ef7c0aba1>\u001b[0m in \u001b[0;36m<module>\u001b[0;34m\u001b[0m\n\u001b[1;32m      1\u001b[0m \u001b[0mtransit_parser\u001b[0m\u001b[0;34m.\u001b[0m\u001b[0mraw_df\u001b[0m \u001b[0;34m=\u001b[0m \u001b[0mtransit_parser\u001b[0m\u001b[0;34m.\u001b[0m\u001b[0mget_raw_responses_df\u001b[0m\u001b[0;34m(\u001b[0m\u001b[0mtransit_parser\u001b[0m\u001b[0;34m.\u001b[0m\u001b[0mlatest_date\u001b[0m\u001b[0;34m,\u001b[0m \u001b[0;34m'00:00'\u001b[0m\u001b[0;34m)\u001b[0m\u001b[0;34m\u001b[0m\u001b[0;34m\u001b[0m\u001b[0m\n\u001b[0;32m----> 2\u001b[0;31m \u001b[0mtransit_parser\u001b[0m\u001b[0;34m.\u001b[0m\u001b[0mparsed_df\u001b[0m \u001b[0;34m=\u001b[0m \u001b[0mtransit_parser\u001b[0m\u001b[0;34m.\u001b[0m\u001b[0mparse_raw_df\u001b[0m\u001b[0;34m(\u001b[0m\u001b[0mtransit_parser\u001b[0m\u001b[0;34m.\u001b[0m\u001b[0mraw_df\u001b[0m\u001b[0;34m)\u001b[0m\u001b[0;34m\u001b[0m\u001b[0;34m\u001b[0m\u001b[0m\n\u001b[0m\u001b[1;32m      3\u001b[0m \u001b[0mtransit_parser\u001b[0m\u001b[0;34m.\u001b[0m\u001b[0mfull_df\u001b[0m \u001b[0;34m=\u001b[0m \u001b[0mtransit_parser\u001b[0m\u001b[0;34m.\u001b[0m\u001b[0mmerge\u001b[0m\u001b[0;34m(\u001b[0m\u001b[0mtransit_parser\u001b[0m\u001b[0;34m.\u001b[0m\u001b[0mraw_df\u001b[0m\u001b[0;34m,\u001b[0m \u001b[0mtransit_parser\u001b[0m\u001b[0;34m.\u001b[0m\u001b[0mparsed_df\u001b[0m\u001b[0;34m)\u001b[0m\u001b[0;34m\u001b[0m\u001b[0;34m\u001b[0m\u001b[0m\n\u001b[1;32m      4\u001b[0m \u001b[0mtransit_parser\u001b[0m\u001b[0;34m.\u001b[0m\u001b[0mupdate_table\u001b[0m\u001b[0;34m(\u001b[0m\u001b[0mtransit_parser\u001b[0m\u001b[0;34m.\u001b[0m\u001b[0mfull_df\u001b[0m\u001b[0;34m)\u001b[0m\u001b[0;34m\u001b[0m\u001b[0;34m\u001b[0m\u001b[0m\n",
      "\u001b[0;32m~/WorkTransit/scripts/WorkTransitLib/parseRawResponse.py\u001b[0m in \u001b[0;36mparse_raw_df\u001b[0;34m(self, raw_df)\u001b[0m\n\u001b[1;32m    127\u001b[0m         \u001b[0;32mif\u001b[0m \u001b[0mself\u001b[0m\u001b[0;34m.\u001b[0m\u001b[0mmode\u001b[0m \u001b[0;34m==\u001b[0m\u001b[0;34m'transit'\u001b[0m\u001b[0;34m:\u001b[0m\u001b[0;34m\u001b[0m\u001b[0;34m\u001b[0m\u001b[0m\n\u001b[1;32m    128\u001b[0m             \u001b[0mtransit_df_parsed\u001b[0m \u001b[0;34m=\u001b[0m \u001b[0mraw_df\u001b[0m\u001b[0;34m[\u001b[0m\u001b[0;34m'Raw Response'\u001b[0m\u001b[0;34m]\u001b[0m\u001b[0;31m\\\u001b[0m\u001b[0;34m\u001b[0m\u001b[0;34m\u001b[0m\u001b[0m\n\u001b[0;32m--> 129\u001b[0;31m                 \u001b[0;34m.\u001b[0m\u001b[0mapply\u001b[0m\u001b[0;34m(\u001b[0m\u001b[0;32mlambda\u001b[0m \u001b[0mx\u001b[0m\u001b[0;34m:\u001b[0m \u001b[0mparse_transit_details\u001b[0m\u001b[0;34m(\u001b[0m\u001b[0mliteral_eval\u001b[0m\u001b[0;34m(\u001b[0m\u001b[0mx\u001b[0m\u001b[0;34m)\u001b[0m\u001b[0;34m[\u001b[0m\u001b[0;36m0\u001b[0m\u001b[0;34m]\u001b[0m\u001b[0;34m)\u001b[0m\u001b[0;34m)\u001b[0m\u001b[0;34m\u001b[0m\u001b[0;34m\u001b[0m\u001b[0m\n\u001b[0m\u001b[1;32m    130\u001b[0m             \u001b[0;32mreturn\u001b[0m\u001b[0;34m(\u001b[0m\u001b[0mtransit_df_parsed\u001b[0m\u001b[0;34m)\u001b[0m\u001b[0;34m\u001b[0m\u001b[0;34m\u001b[0m\u001b[0m\n\u001b[1;32m    131\u001b[0m         \u001b[0;32melif\u001b[0m \u001b[0mself\u001b[0m\u001b[0;34m.\u001b[0m\u001b[0mmode\u001b[0m \u001b[0;34m==\u001b[0m \u001b[0;34m'driving'\u001b[0m\u001b[0;34m:\u001b[0m\u001b[0;34m\u001b[0m\u001b[0;34m\u001b[0m\u001b[0m\n",
      "\u001b[0;32m~/main/lib/python3.6/site-packages/pandas/core/series.py\u001b[0m in \u001b[0;36mapply\u001b[0;34m(self, func, convert_dtype, args, **kwds)\u001b[0m\n\u001b[1;32m   4210\u001b[0m             \u001b[0;32melse\u001b[0m\u001b[0;34m:\u001b[0m\u001b[0;34m\u001b[0m\u001b[0;34m\u001b[0m\u001b[0m\n\u001b[1;32m   4211\u001b[0m                 \u001b[0mvalues\u001b[0m \u001b[0;34m=\u001b[0m \u001b[0mself\u001b[0m\u001b[0;34m.\u001b[0m\u001b[0mastype\u001b[0m\u001b[0;34m(\u001b[0m\u001b[0mobject\u001b[0m\u001b[0;34m)\u001b[0m\u001b[0;34m.\u001b[0m\u001b[0m_values\u001b[0m\u001b[0;34m\u001b[0m\u001b[0;34m\u001b[0m\u001b[0m\n\u001b[0;32m-> 4212\u001b[0;31m                 \u001b[0mmapped\u001b[0m \u001b[0;34m=\u001b[0m \u001b[0mlib\u001b[0m\u001b[0;34m.\u001b[0m\u001b[0mmap_infer\u001b[0m\u001b[0;34m(\u001b[0m\u001b[0mvalues\u001b[0m\u001b[0;34m,\u001b[0m \u001b[0mf\u001b[0m\u001b[0;34m,\u001b[0m \u001b[0mconvert\u001b[0m\u001b[0;34m=\u001b[0m\u001b[0mconvert_dtype\u001b[0m\u001b[0;34m)\u001b[0m\u001b[0;34m\u001b[0m\u001b[0;34m\u001b[0m\u001b[0m\n\u001b[0m\u001b[1;32m   4213\u001b[0m \u001b[0;34m\u001b[0m\u001b[0m\n\u001b[1;32m   4214\u001b[0m         \u001b[0;32mif\u001b[0m \u001b[0mlen\u001b[0m\u001b[0;34m(\u001b[0m\u001b[0mmapped\u001b[0m\u001b[0;34m)\u001b[0m \u001b[0;32mand\u001b[0m \u001b[0misinstance\u001b[0m\u001b[0;34m(\u001b[0m\u001b[0mmapped\u001b[0m\u001b[0;34m[\u001b[0m\u001b[0;36m0\u001b[0m\u001b[0;34m]\u001b[0m\u001b[0;34m,\u001b[0m \u001b[0mSeries\u001b[0m\u001b[0;34m)\u001b[0m\u001b[0;34m:\u001b[0m\u001b[0;34m\u001b[0m\u001b[0;34m\u001b[0m\u001b[0m\n",
      "\u001b[0;32mpandas/_libs/lib.pyx\u001b[0m in \u001b[0;36mpandas._libs.lib.map_infer\u001b[0;34m()\u001b[0m\n",
      "\u001b[0;32m~/WorkTransit/scripts/WorkTransitLib/parseRawResponse.py\u001b[0m in \u001b[0;36m<lambda>\u001b[0;34m(x)\u001b[0m\n\u001b[1;32m    127\u001b[0m         \u001b[0;32mif\u001b[0m \u001b[0mself\u001b[0m\u001b[0;34m.\u001b[0m\u001b[0mmode\u001b[0m \u001b[0;34m==\u001b[0m\u001b[0;34m'transit'\u001b[0m\u001b[0;34m:\u001b[0m\u001b[0;34m\u001b[0m\u001b[0;34m\u001b[0m\u001b[0m\n\u001b[1;32m    128\u001b[0m             \u001b[0mtransit_df_parsed\u001b[0m \u001b[0;34m=\u001b[0m \u001b[0mraw_df\u001b[0m\u001b[0;34m[\u001b[0m\u001b[0;34m'Raw Response'\u001b[0m\u001b[0;34m]\u001b[0m\u001b[0;31m\\\u001b[0m\u001b[0;34m\u001b[0m\u001b[0;34m\u001b[0m\u001b[0m\n\u001b[0;32m--> 129\u001b[0;31m                 \u001b[0;34m.\u001b[0m\u001b[0mapply\u001b[0m\u001b[0;34m(\u001b[0m\u001b[0;32mlambda\u001b[0m \u001b[0mx\u001b[0m\u001b[0;34m:\u001b[0m \u001b[0mparse_transit_details\u001b[0m\u001b[0;34m(\u001b[0m\u001b[0mliteral_eval\u001b[0m\u001b[0;34m(\u001b[0m\u001b[0mx\u001b[0m\u001b[0;34m)\u001b[0m\u001b[0;34m[\u001b[0m\u001b[0;36m0\u001b[0m\u001b[0;34m]\u001b[0m\u001b[0;34m)\u001b[0m\u001b[0;34m)\u001b[0m\u001b[0;34m\u001b[0m\u001b[0;34m\u001b[0m\u001b[0m\n\u001b[0m\u001b[1;32m    130\u001b[0m             \u001b[0;32mreturn\u001b[0m\u001b[0;34m(\u001b[0m\u001b[0mtransit_df_parsed\u001b[0m\u001b[0;34m)\u001b[0m\u001b[0;34m\u001b[0m\u001b[0;34m\u001b[0m\u001b[0m\n\u001b[1;32m    131\u001b[0m         \u001b[0;32melif\u001b[0m \u001b[0mself\u001b[0m\u001b[0;34m.\u001b[0m\u001b[0mmode\u001b[0m \u001b[0;34m==\u001b[0m \u001b[0;34m'driving'\u001b[0m\u001b[0;34m:\u001b[0m\u001b[0;34m\u001b[0m\u001b[0;34m\u001b[0m\u001b[0m\n",
      "\u001b[0;31mIndexError\u001b[0m: list index out of range"
     ]
    }
   ],
   "source": [
    "transit_parser.raw_df = transit_parser.get_raw_responses_df(transit_parser.latest_date, '00:00')\n",
    "transit_parser.parsed_df = transit_parser.parse_raw_df(transit_parser.raw_df)\n",
    "transit_parser.full_df = transit_parser.merge(transit_parser.raw_df, transit_parser.parsed_df)\n",
    "transit_parser.update_table(transit_parser.full_df)\n"
   ]
  },
  {
   "cell_type": "code",
   "execution_count": null,
   "metadata": {},
   "outputs": [],
   "source": []
  },
  {
   "cell_type": "code",
   "execution_count": null,
   "metadata": {},
   "outputs": [],
   "source": []
  },
  {
   "cell_type": "markdown",
   "metadata": {},
   "source": [
    "## Graveyard"
   ]
  },
  {
   "cell_type": "raw",
   "metadata": {},
   "source": [
    "class RunParser():\n",
    "    \n",
    "    def __init__(self, mode, parsed_tbl_name):\n",
    "        self.mode = mode\n",
    "        if mode not in ['driving', 'transit']:\n",
    "            raise ValueError()\n",
    "        \n",
    "        self.parsed_tbl_name = parsed_tbl_name\n",
    "        if parsed_tbl_name not in ['parsed_transit', 'parsed_driving']:\n",
    "            raise ValueError()\n",
    "                \n",
    "    def create_con(self, db_path):\n",
    "        self.con = sqlite3.connect('/home/malcolm/WorkTransit/data/transit.db')\n",
    "        self.cursor = self.con.cursor()\n",
    "        self.cursor.execute('SELECT name FROM sqlite_master WHERE type=\\'table\\' ORDER BY name')\n",
    "        tables = self.cursor.fetchall()\n",
    "        tables = [x[0] for x in tables]\n",
    "        print(\"Tables: \", tables)\n",
    "    \n",
    "    def get_latest_date(self, column_name='date'):\n",
    "        sql = f\"select max({column_name}) from {self.parsed_tbl_name}\"\n",
    "        date = self.cursor.execute(sql).fetchall()[0][0]\n",
    "        print(f\"Latest date for {table_name} is {date}\")\n",
    "        return(date)\n",
    "    \n",
    "    def get_raw_responses_df(self, latest_date):\n",
    "        raw_df = pd.read_sql(f\"\"\"\n",
    "            select * from raw_responses \n",
    "            where Date > '{latest_date}'\n",
    "            and mode = '{self.mode}'\n",
    "            \"\"\", selssf.con)\n",
    "        print(\"Raw Response df has \", raw_df.shape[0], \" rows\")\n",
    "        return(raw_df)\n",
    "    \n",
    "    def parse_raw_df(self, raw_df):\n",
    "        if self.mode =='transit':\n",
    "            transit_df_parsed = raw_df['Raw Response']\\\n",
    "                .apply(lambda x: parser.parse_transit_details(literal_eval(x)[0]))\n",
    "            return(transit_df_parsed)\n",
    "        elif self.mode == 'driving':\n",
    "            driving_df_parsed = driving_df_raw['Raw Response']\\\n",
    "                .apply(lambda x: parser.parse_driving_details(literal_eval(x)[0]))\n",
    "            return(driving_df_parsed)\n",
    "        else:\n",
    "            print(\"mode not transit or driving.... Unexpected returning empty df\")\n",
    "            return(pd.DataFrame())\n",
    "\n",
    "    def merge(self, raw_df, parsed_df):\n",
    "        full = pd.merge(parsed_df, raw_df\n",
    "             , left_index=sTrue, right_index=True)\n",
    "        return(full)\n",
    "    \n",
    "    def update_table(self, full_df):\n",
    "        full_df.to_sql(self.parsed_table_name, self.con, index=False, if_exists='append')\n",
    "        self.con.commit()\n",
    "        print({self.parsed_table_name}, \" was updated with \", full_df.shape[0], \" rows\")\n",
    "\n",
    "    def execute(self\n",
    "               , db_path = '/home/malcolm/WorkTransit/data/transit.db'\n",
    "               , parsed_table_name = 'parsed_transit', column_name='date'):\n",
    "        self.create_con(db_path)\n",
    "        self.latest_date = self.get_latest_date(parsed_table_name, column_name)\n",
    "        self.raw_df = self.get_raw_responses_df(self.latest_date)\n",
    "        self.parsed_df = self.parse_raw_df(self.raw_df)\n",
    "        self.full_df = self.merge(self.raw_df, self.parsed_df)\n",
    "        self.update_table(self.full_df)"
   ]
  },
  {
   "cell_type": "code",
   "execution_count": null,
   "metadata": {},
   "outputs": [],
   "source": []
  },
  {
   "cell_type": "code",
   "execution_count": null,
   "metadata": {},
   "outputs": [],
   "source": []
  },
  {
   "cell_type": "code",
   "execution_count": null,
   "metadata": {},
   "outputs": [],
   "source": []
  },
  {
   "cell_type": "code",
   "execution_count": null,
   "metadata": {},
   "outputs": [],
   "source": [
    "con = sqlite3.connect('/home/malcolm/WorkTransit/data/transit.db')\n",
    "cursor = con.cursor()\n",
    "cursor.execute('SELECT name FROM sqlite_master WHERE type=\\'table\\' ORDER BY name')\n",
    "tables = cursor.fetchall()\n",
    "tables = [x[0] for x in tables]\n",
    "tables"
   ]
  },
  {
   "cell_type": "code",
   "execution_count": null,
   "metadata": {},
   "outputs": [],
   "source": [
    "latest_transit_date, latest_transit_time = cursor.execute(\"select max(date) as date, max(time) as time from parsed_transit\").fetchall()[0]\n",
    "# latest_driving_date = cursor.execute(\"select max(date) as date, max(time) as time from parsed_driving\").fetchall()[0][0]\n",
    "# print(\"Latest Transit Date: \", latest_transit_date, \" Latest Driving Date: \", latest_driving_date)\n",
    "\n",
    "latest_transit_date, latest_transit_time\n"
   ]
  },
  {
   "cell_type": "raw",
   "metadata": {},
   "source": [
    "latest_transit_date = '1970-01-01'\n",
    "latest_driving_date = '1970-01-01'"
   ]
  },
  {
   "cell_type": "code",
   "execution_count": null,
   "metadata": {},
   "outputs": [],
   "source": [
    "    def get_raw_responses_df(self, latest_date, latest_time):\n",
    "        raw_df = pd.read_sql(f\"\"\"\n",
    "            select * from raw_responses \n",
    "            where Date >= '{latest_date}'\n",
    "            and Time >= '{latest_time}'\n",
    "            and mode = '{self.mode}'\n",
    "            \"\"\", self.con)\n",
    "        print(\"Raw Response df has \", raw_df.shape[0], \" rows\")\n",
    "        return(raw_df)"
   ]
  },
  {
   "cell_type": "code",
   "execution_count": null,
   "metadata": {},
   "outputs": [],
   "source": [
    "latest_transit_time = '07:03'"
   ]
  },
  {
   "cell_type": "code",
   "execution_count": null,
   "metadata": {
    "scrolled": true
   },
   "outputs": [],
   "source": [
    "transit_df_raw = pd.read_sql(f\"\"\"\n",
    "select * from raw_responses \n",
    "where Date > '{latest_transit_date}'\n",
    "and mode = 'transit'\n",
    "and Time >= '{latest_transit_time}'\n",
    "\"\"\", con)\n",
    "transit_df_raw"
   ]
  },
  {
   "cell_type": "code",
   "execution_count": null,
   "metadata": {},
   "outputs": [],
   "source": [
    "driving_df_raw = pd.read_sql(f\"\"\"\n",
    "select * from raw_responses \n",
    "where Date > '{latest_driving_date}'\n",
    "and mode = 'driving'\n",
    "\"\"\", con)\n",
    "driving_df_raw"
   ]
  },
  {
   "cell_type": "code",
   "execution_count": null,
   "metadata": {
    "scrolled": true
   },
   "outputs": [],
   "source": [
    "transit_df_parsed = transit_df_raw['Raw Response']\\\n",
    "    .apply(lambda x: parser.parse_transit_details(literal_eval(x)[0]))\n",
    "transit_df_parsed"
   ]
  },
  {
   "cell_type": "code",
   "execution_count": null,
   "metadata": {
    "scrolled": true
   },
   "outputs": [],
   "source": [
    "driving_df_parsed = driving_df_raw['Raw Response']\\\n",
    "    .apply(lambda x: parser.parse_driving_details(literal_eval(x)[0]))\n",
    "driving_df_parsed"
   ]
  },
  {
   "cell_type": "code",
   "execution_count": null,
   "metadata": {},
   "outputs": [],
   "source": [
    "driving_full = pd.merge(driving_df_parsed, driving_df_raw\n",
    "         , left_index=True, right_index=True)\n",
    "transit_full = pd.merge(transit_df_parsed, transit_df_raw\n",
    "                       , left_index=True, right_index=True)\n"
   ]
  },
  {
   "cell_type": "code",
   "execution_count": null,
   "metadata": {},
   "outputs": [],
   "source": [
    "transit_full.head()"
   ]
  },
  {
   "cell_type": "code",
   "execution_count": null,
   "metadata": {},
   "outputs": [],
   "source": [
    "transit_full.to_sql('parsed_transit', con, index=False, if_exists='append')\n",
    "con.commit()"
   ]
  },
  {
   "cell_type": "code",
   "execution_count": null,
   "metadata": {},
   "outputs": [],
   "source": [
    "driving_full.to_sql('parsed_driving', con, index=False, if_exists='append')\n",
    "con.commit()"
   ]
  },
  {
   "cell_type": "code",
   "execution_count": null,
   "metadata": {},
   "outputs": [],
   "source": [
    "con.close()"
   ]
  },
  {
   "cell_type": "code",
   "execution_count": null,
   "metadata": {},
   "outputs": [],
   "source": []
  },
  {
   "cell_type": "code",
   "execution_count": null,
   "metadata": {},
   "outputs": [],
   "source": []
  }
 ],
 "metadata": {
  "kernelspec": {
   "display_name": "Python 3",
   "language": "python",
   "name": "python3"
  },
  "language_info": {
   "codemirror_mode": {
    "name": "ipython",
    "version": 3
   },
   "file_extension": ".py",
   "mimetype": "text/x-python",
   "name": "python",
   "nbconvert_exporter": "python",
   "pygments_lexer": "ipython3",
   "version": "3.6.9"
  },
  "toc": {
   "base_numbering": 1,
   "nav_menu": {},
   "number_sections": true,
   "sideBar": true,
   "skip_h1_title": false,
   "title_cell": "Table of Contents",
   "title_sidebar": "Contents",
   "toc_cell": false,
   "toc_position": {},
   "toc_section_display": true,
   "toc_window_display": false
  }
 },
 "nbformat": 4,
 "nbformat_minor": 4
}
